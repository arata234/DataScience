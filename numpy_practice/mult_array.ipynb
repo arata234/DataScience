{
 "cells": [
  {
   "attachments": {},
   "cell_type": "markdown",
   "metadata": {},
   "source": [
    "- dimention\n",
    "- shape\n",
    "- size\n",
    "- conversion of shape"
   ]
  },
  {
   "cell_type": "code",
   "execution_count": 1,
   "metadata": {},
   "outputs": [],
   "source": [
    "import numpy as np\n",
    "import matplotlib.pyplot as plt"
   ]
  },
  {
   "cell_type": "code",
   "execution_count": 3,
   "metadata": {},
   "outputs": [
    {
     "name": "stdout",
     "output_type": "stream",
     "text": [
      "[[[0.7644521  0.78063276 0.21883728 0.81353175]\n",
      "  [0.03745279 0.70097225 0.41451578 0.1774552 ]\n",
      "  [0.87102949 0.30129072 0.30144186 0.02473647]]\n",
      "\n",
      " [[0.07888593 0.23394314 0.44573598 0.62764174]\n",
      "  [0.67311841 0.94027639 0.81711576 0.44493148]\n",
      "  [0.00884996 0.71093197 0.84538595 0.1071392 ]]]\n"
     ]
    }
   ],
   "source": [
    "arr1 = np.random.rand(2, 3, 4)\n",
    "print(arr1)"
   ]
  },
  {
   "attachments": {},
   "cell_type": "markdown",
   "metadata": {},
   "source": [
    "dimention"
   ]
  },
  {
   "cell_type": "code",
   "execution_count": 4,
   "metadata": {},
   "outputs": [
    {
     "data": {
      "text/plain": [
       "3"
      ]
     },
     "execution_count": 4,
     "metadata": {},
     "output_type": "execute_result"
    }
   ],
   "source": [
    "arr1.ndim"
   ]
  },
  {
   "cell_type": "code",
   "execution_count": 7,
   "metadata": {},
   "outputs": [
    {
     "data": {
      "text/plain": [
       "5"
      ]
     },
     "execution_count": 7,
     "metadata": {},
     "output_type": "execute_result"
    }
   ],
   "source": [
    "np.random.rand(2, 3, 4, 5, 6).ndim"
   ]
  },
  {
   "attachments": {},
   "cell_type": "markdown",
   "metadata": {},
   "source": [
    "shape"
   ]
  },
  {
   "cell_type": "code",
   "execution_count": 9,
   "metadata": {},
   "outputs": [],
   "source": [
    "arr2 = np.random.rand(2, 3, 4)"
   ]
  },
  {
   "cell_type": "code",
   "execution_count": 10,
   "metadata": {},
   "outputs": [
    {
     "data": {
      "text/plain": [
       "(2, 3, 4)"
      ]
     },
     "execution_count": 10,
     "metadata": {},
     "output_type": "execute_result"
    }
   ],
   "source": [
    "arr2.shape"
   ]
  },
  {
   "attachments": {},
   "cell_type": "markdown",
   "metadata": {},
   "source": [
    "形状の変換"
   ]
  },
  {
   "cell_type": "code",
   "execution_count": 13,
   "metadata": {},
   "outputs": [
    {
     "data": {
      "text/plain": [
       "array([[[0.31764645, 0.23238274, 0.22545205],\n",
       "        [0.57565687, 0.87041814, 0.81164125],\n",
       "        [0.35971101, 0.29264853, 0.4908483 ],\n",
       "        [0.32953749, 0.17314029, 0.23005575]],\n",
       "\n",
       "       [[0.41789226, 0.63786224, 0.22180447],\n",
       "        [0.66236618, 0.21132681, 0.70819676],\n",
       "        [0.80546665, 0.58719367, 0.19307051],\n",
       "        [0.84459973, 0.83520487, 0.10906692]]])"
      ]
     },
     "execution_count": 13,
     "metadata": {},
     "output_type": "execute_result"
    }
   ],
   "source": [
    "arr2.reshape(2, 4, 3)"
   ]
  },
  {
   "cell_type": "code",
   "execution_count": 16,
   "metadata": {},
   "outputs": [
    {
     "data": {
      "text/plain": [
       "array([[0.31764645, 0.23238274, 0.22545205, 0.57565687, 0.87041814,\n",
       "        0.81164125, 0.35971101, 0.29264853, 0.4908483 , 0.32953749,\n",
       "        0.17314029, 0.23005575, 0.41789226, 0.63786224, 0.22180447,\n",
       "        0.66236618, 0.21132681, 0.70819676, 0.80546665, 0.58719367,\n",
       "        0.19307051, 0.84459973, 0.83520487, 0.10906692]])"
      ]
     },
     "execution_count": 16,
     "metadata": {},
     "output_type": "execute_result"
    }
   ],
   "source": [
    "arr2.reshape(1, -1)"
   ]
  },
  {
   "attachments": {},
   "cell_type": "markdown",
   "metadata": {},
   "source": [
    "演算例"
   ]
  },
  {
   "cell_type": "code",
   "execution_count": 27,
   "metadata": {},
   "outputs": [
    {
     "data": {
      "text/plain": [
       "array([[ 2,  4,  8],\n",
       "       [ 3,  9, 27]])"
      ]
     },
     "execution_count": 27,
     "metadata": {},
     "output_type": "execute_result"
    }
   ],
   "source": [
    "arr3 = np.array([[2, 4, 8], [3, 9, 27]])\n",
    "arr4 = np.array([[2, 4], [3, 9], [4, 16]])\n",
    "arr3"
   ]
  },
  {
   "cell_type": "code",
   "execution_count": 28,
   "metadata": {},
   "outputs": [
    {
     "name": "stdout",
     "output_type": "stream",
     "text": [
      "[[1002 1004 1008]\n",
      " [1003 1009 1027]]\n",
      "[[ 4  8 16]\n",
      " [ 6 18 54]]\n"
     ]
    }
   ],
   "source": [
    "print(arr3 + 1000)\n",
    "print(arr3 * 2)\n"
   ]
  },
  {
   "cell_type": "code",
   "execution_count": 31,
   "metadata": {},
   "outputs": [
    {
     "name": "stdout",
     "output_type": "stream",
     "text": [
      "[[ 4  8 16]\n",
      " [ 6 18 54]]\n",
      "[[  4  16  64]\n",
      " [  9  81 729]]\n",
      "[[ 48 172]\n",
      " [141 525]]\n"
     ]
    }
   ],
   "source": [
    "print(arr3 + arr3)\n",
    "print(arr3 * arr3)\n",
    "print(arr3 @ arr4) # 行列積"
   ]
  },
  {
   "cell_type": "code",
   "execution_count": 33,
   "metadata": {},
   "outputs": [
    {
     "name": "stdout",
     "output_type": "stream",
     "text": [
      "[[102 204 308]\n",
      " [103 209 327]]\n",
      "[[102 104 108]\n",
      " [203 209 227]]\n"
     ]
    }
   ],
   "source": [
    "print(arr3 + [100, 200, 300])\n",
    "print(arr3+[[100], [200]])"
   ]
  },
  {
   "cell_type": "code",
   "execution_count": 37,
   "metadata": {},
   "outputs": [
    {
     "name": "stdout",
     "output_type": "stream",
     "text": [
      "53\n",
      "[ 5 13 35]\n",
      "[14 39]\n"
     ]
    }
   ],
   "source": [
    "print(arr3.sum())\n",
    "print(arr3.sum(axis=0)) # →\n",
    "print(arr3.sum(axis=1)) # ↓\n"
   ]
  },
  {
   "cell_type": "code",
   "execution_count": 39,
   "metadata": {},
   "outputs": [
    {
     "data": {
      "text/plain": [
       "array([[1.41, 2.  , 2.83],\n",
       "       [1.73, 3.  , 5.2 ]])"
      ]
     },
     "execution_count": 39,
     "metadata": {},
     "output_type": "execute_result"
    }
   ],
   "source": [
    "np.round(np.sqrt(arr3), 2)"
   ]
  },
  {
   "cell_type": "code",
   "execution_count": null,
   "metadata": {},
   "outputs": [],
   "source": []
  }
 ],
 "metadata": {
  "kernelspec": {
   "display_name": "Python 3",
   "language": "python",
   "name": "python3"
  },
  "language_info": {
   "codemirror_mode": {
    "name": "ipython",
    "version": 3
   },
   "file_extension": ".py",
   "mimetype": "text/x-python",
   "name": "python",
   "nbconvert_exporter": "python",
   "pygments_lexer": "ipython3",
   "version": "3.10.11"
  },
  "orig_nbformat": 4
 },
 "nbformat": 4,
 "nbformat_minor": 2
}
