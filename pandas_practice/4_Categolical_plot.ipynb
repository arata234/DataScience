{
 "cells": [
  {
   "cell_type": "markdown",
   "id": "23c6d4cc",
   "metadata": {},
   "source": [
    "<a id=0></a>\n",
    "# 4.Categorical Plot"
   ]
  },
  {
   "cell_type": "markdown",
   "id": "cfd115fa",
   "metadata": {},
   "source": [
    "---\n",
    "### [1.SearbornのデータセットからDataFrameを作成 ](#1)\n",
    "### [2.欠損値の処理 ](#2)\n",
    "### [3.欠損した年齢を考えてみる（プロットの例を示す）](#3)\n",
    "### [4.カテゴリカルプロット](#4)\n",
    "---"
   ]
  },
  {
   "cell_type": "code",
   "execution_count": 1,
   "id": "5f4b23d4",
   "metadata": {
    "scrolled": false
   },
   "outputs": [],
   "source": [
    "import numpy as np\n",
    "import pandas as pd\n",
    "import matplotlib.pyplot as plt\n",
    "import seaborn as sns"
   ]
  },
  {
   "cell_type": "markdown",
   "id": "cff153af",
   "metadata": {},
   "source": [
    "---\n",
    "<a id=1></a>\n",
    "[Topへ](#0)\n",
    "\n",
    "---\n",
    "## 1. SearbornのデータセットからDataFrameを作成"
   ]
  },
  {
   "cell_type": "markdown",
   "id": "75b9359b",
   "metadata": {},
   "source": [
    "* データセット(Titanic)を読み込む\n",
    "* データセットの理解と整理、Kaggleの紹介\n",
    "* 重複カラムの処理\n",
    "---"
   ]
  },
  {
   "cell_type": "markdown",
   "id": "68f0ca02",
   "metadata": {},
   "source": [
    "データセット(Titanic)を読み込む"
   ]
  },
  {
   "cell_type": "code",
   "execution_count": 2,
   "id": "e3c0d5c1",
   "metadata": {},
   "outputs": [
    {
     "data": {
      "text/plain": [
       "['anagrams',\n",
       " 'anscombe',\n",
       " 'attention',\n",
       " 'brain_networks',\n",
       " 'car_crashes',\n",
       " 'diamonds',\n",
       " 'dots',\n",
       " 'dowjones',\n",
       " 'exercise',\n",
       " 'flights',\n",
       " 'fmri',\n",
       " 'geyser',\n",
       " 'glue',\n",
       " 'healthexp',\n",
       " 'iris',\n",
       " 'mpg',\n",
       " 'penguins',\n",
       " 'planets',\n",
       " 'seaice',\n",
       " 'taxis',\n",
       " 'tips',\n",
       " 'titanic']"
      ]
     },
     "execution_count": 2,
     "metadata": {},
     "output_type": "execute_result"
    }
   ],
   "source": [
    "sns.get_dataset_names()"
   ]
  },
  {
   "cell_type": "markdown",
   "id": "df5d2ffa",
   "metadata": {},
   "source": [
    "データセットの理解と整理、Kaggleの紹介"
   ]
  },
  {
   "cell_type": "markdown",
   "id": "918146ac",
   "metadata": {},
   "source": [
    "<p>\n",
    "    <a href=\"https://www.kaggle.com/competitions/titanic/data\" target=\"_blank\" rel=\"noreferrer noopener\">\n",
    "        Kaggle Dataset Titanic のページへ\n",
    "    </a>\n",
    "</p>\n",
    "\n",
    "    survival : Survival\t0 = No, 1 = Yes  \n",
    "    pclass   : Ticket class\t1 = 1st, 2 = 2nd, 3 = 3rd  \n",
    "    sex\t  : Sex\t  \n",
    "    age      : Age in years  \t\n",
    "    sibsp    : # of siblings / spouses aboard the Titanic  (兄弟姉妹 / 配偶者)  \n",
    "    parch    : # of parents / children aboard the Titanic\t(親 / 子)  \n",
    "    fare     : Passenger fare\t\n",
    "    embarked : Port of Embarkation\tC = Cherbourg, Q = Queenstown, S = Southampton  \n",
    "    who      : man or female or child\n",
    "    class, who, adult_male, deck, embark_town, alive, alone\n",
    "    ※ 一部変更しています"
   ]
  },
  {
   "cell_type": "code",
   "execution_count": 3,
   "id": "259bf089",
   "metadata": {},
   "outputs": [],
   "source": [
    "df = sns.load_dataset(name=\"titanic\")"
   ]
  },
  {
   "cell_type": "markdown",
   "id": "999fafd8",
   "metadata": {},
   "source": [
    "重複カラムの処理（'alive', 'class', 'adult_male', 'embark_town', 'alone'）"
   ]
  },
  {
   "cell_type": "code",
   "execution_count": 4,
   "id": "48894174",
   "metadata": {},
   "outputs": [
    {
     "name": "stdout",
     "output_type": "stream",
     "text": [
      "<class 'pandas.core.frame.DataFrame'>\n",
      "RangeIndex: 891 entries, 0 to 890\n",
      "Data columns (total 15 columns):\n",
      " #   Column       Non-Null Count  Dtype   \n",
      "---  ------       --------------  -----   \n",
      " 0   survived     891 non-null    int64   \n",
      " 1   pclass       891 non-null    int64   \n",
      " 2   sex          891 non-null    object  \n",
      " 3   age          714 non-null    float64 \n",
      " 4   sibsp        891 non-null    int64   \n",
      " 5   parch        891 non-null    int64   \n",
      " 6   fare         891 non-null    float64 \n",
      " 7   embarked     889 non-null    object  \n",
      " 8   class        891 non-null    category\n",
      " 9   who          891 non-null    object  \n",
      " 10  adult_male   891 non-null    bool    \n",
      " 11  deck         203 non-null    category\n",
      " 12  embark_town  889 non-null    object  \n",
      " 13  alive        891 non-null    object  \n",
      " 14  alone        891 non-null    bool    \n",
      "dtypes: bool(2), category(2), float64(2), int64(4), object(5)\n",
      "memory usage: 80.7+ KB\n"
     ]
    }
   ],
   "source": [
    "df.info()"
   ]
  },
  {
   "cell_type": "code",
   "execution_count": 6,
   "id": "6da44f97",
   "metadata": {},
   "outputs": [
    {
     "data": {
      "text/plain": [
       "(array([0, 1], dtype=int64), array(['no', 'yes'], dtype=object))"
      ]
     },
     "execution_count": 6,
     "metadata": {},
     "output_type": "execute_result"
    }
   ],
   "source": [
    "df[\"survived\"].unique(), df[\"alive\"].unique()"
   ]
  },
  {
   "cell_type": "code",
   "execution_count": 7,
   "id": "26e8d225",
   "metadata": {},
   "outputs": [
    {
     "data": {
      "text/plain": [
       "survived  alive\n",
       "0         no       549\n",
       "1         yes      342\n",
       "dtype: int64"
      ]
     },
     "execution_count": 7,
     "metadata": {},
     "output_type": "execute_result"
    }
   ],
   "source": [
    "df[[\"survived\", \"alive\"]].value_counts()"
   ]
  },
  {
   "cell_type": "code",
   "execution_count": 8,
   "id": "5606c95f",
   "metadata": {},
   "outputs": [
    {
     "data": {
      "text/plain": [
       "pclass  class \n",
       "3       Third     491\n",
       "1       First     216\n",
       "2       Second    184\n",
       "dtype: int64"
      ]
     },
     "execution_count": 8,
     "metadata": {},
     "output_type": "execute_result"
    }
   ],
   "source": [
    "df[[\"pclass\", \"class\"]].value_counts()"
   ]
  },
  {
   "cell_type": "code",
   "execution_count": 10,
   "id": "b011fa70",
   "metadata": {},
   "outputs": [
    {
     "data": {
      "text/plain": [
       "embarked  embark_town\n",
       "S         Southampton    644\n",
       "C         Cherbourg      168\n",
       "Q         Queenstown      77\n",
       "dtype: int64"
      ]
     },
     "execution_count": 10,
     "metadata": {},
     "output_type": "execute_result"
    }
   ],
   "source": [
    "df[[\"embarked\", \"embark_town\"]].value_counts()"
   ]
  },
  {
   "cell_type": "code",
   "execution_count": 11,
   "id": "c39d782b",
   "metadata": {},
   "outputs": [
    {
     "data": {
      "text/plain": [
       "who    adult_male\n",
       "man    True          537\n",
       "woman  False         271\n",
       "child  False          83\n",
       "dtype: int64"
      ]
     },
     "execution_count": 11,
     "metadata": {},
     "output_type": "execute_result"
    }
   ],
   "source": [
    "df[[\"who\", \"adult_male\"]].value_counts()"
   ]
  },
  {
   "cell_type": "code",
   "execution_count": 15,
   "id": "786f6532",
   "metadata": {},
   "outputs": [
    {
     "data": {
      "text/plain": [
       "array([ True])"
      ]
     },
     "execution_count": 15,
     "metadata": {},
     "output_type": "execute_result"
    }
   ],
   "source": [
    "df[(df[\"sibsp\"] == 0) & (df[\"parch\"] == 0)][\"alone\"].unique()"
   ]
  },
  {
   "cell_type": "code",
   "execution_count": 16,
   "id": "4d060abd",
   "metadata": {},
   "outputs": [
    {
     "data": {
      "text/plain": [
       "array([False])"
      ]
     },
     "execution_count": 16,
     "metadata": {},
     "output_type": "execute_result"
    }
   ],
   "source": [
    "df[(df[\"sibsp\"] != 0) | (df[\"parch\"] != 0)][\"alone\"].unique()\n"
   ]
  },
  {
   "attachments": {},
   "cell_type": "markdown",
   "id": "45fd1ed5",
   "metadata": {},
   "source": [
    "<p>\n",
    "    'alive', 'class', 'adult_male', 'embark_town', 'alone' のカラムを削除 \n",
    "    </p>"
   ]
  },
  {
   "cell_type": "code",
   "execution_count": 21,
   "id": "b7de6c56",
   "metadata": {},
   "outputs": [
    {
     "ename": "KeyError",
     "evalue": "\"['alive', 'class', 'adult_male', 'embark_town', 'alone'] not found in axis\"",
     "output_type": "error",
     "traceback": [
      "\u001b[1;31m---------------------------------------------------------------------------\u001b[0m",
      "\u001b[1;31mKeyError\u001b[0m                                  Traceback (most recent call last)",
      "Cell \u001b[1;32mIn[21], line 1\u001b[0m\n\u001b[1;32m----> 1\u001b[0m df\u001b[39m.\u001b[39;49mdrop(columns\u001b[39m=\u001b[39;49m[\u001b[39m\"\u001b[39;49m\u001b[39malive\u001b[39;49m\u001b[39m\"\u001b[39;49m, \u001b[39m\"\u001b[39;49m\u001b[39mclass\u001b[39;49m\u001b[39m\"\u001b[39;49m, \u001b[39m\"\u001b[39;49m\u001b[39madult_male\u001b[39;49m\u001b[39m\"\u001b[39;49m, \u001b[39m\"\u001b[39;49m\u001b[39membark_town\u001b[39;49m\u001b[39m\"\u001b[39;49m, \u001b[39m\"\u001b[39;49m\u001b[39malone\u001b[39;49m\u001b[39m\"\u001b[39;49m], inplace\u001b[39m=\u001b[39;49m\u001b[39mTrue\u001b[39;49;00m)\n",
      "File \u001b[1;32m~\\AppData\\Local\\Packages\\PythonSoftwareFoundation.Python.3.9_qbz5n2kfra8p0\\LocalCache\\local-packages\\Python39\\site-packages\\pandas\\util\\_decorators.py:311\u001b[0m, in \u001b[0;36mdeprecate_nonkeyword_arguments.<locals>.decorate.<locals>.wrapper\u001b[1;34m(*args, **kwargs)\u001b[0m\n\u001b[0;32m    305\u001b[0m \u001b[39mif\u001b[39;00m \u001b[39mlen\u001b[39m(args) \u001b[39m>\u001b[39m num_allow_args:\n\u001b[0;32m    306\u001b[0m     warnings\u001b[39m.\u001b[39mwarn(\n\u001b[0;32m    307\u001b[0m         msg\u001b[39m.\u001b[39mformat(arguments\u001b[39m=\u001b[39marguments),\n\u001b[0;32m    308\u001b[0m         \u001b[39mFutureWarning\u001b[39;00m,\n\u001b[0;32m    309\u001b[0m         stacklevel\u001b[39m=\u001b[39mstacklevel,\n\u001b[0;32m    310\u001b[0m     )\n\u001b[1;32m--> 311\u001b[0m \u001b[39mreturn\u001b[39;00m func(\u001b[39m*\u001b[39margs, \u001b[39m*\u001b[39m\u001b[39m*\u001b[39mkwargs)\n",
      "File \u001b[1;32m~\\AppData\\Local\\Packages\\PythonSoftwareFoundation.Python.3.9_qbz5n2kfra8p0\\LocalCache\\local-packages\\Python39\\site-packages\\pandas\\core\\frame.py:4954\u001b[0m, in \u001b[0;36mDataFrame.drop\u001b[1;34m(self, labels, axis, index, columns, level, inplace, errors)\u001b[0m\n\u001b[0;32m   4806\u001b[0m \u001b[39m@deprecate_nonkeyword_arguments\u001b[39m(version\u001b[39m=\u001b[39m\u001b[39mNone\u001b[39;00m, allowed_args\u001b[39m=\u001b[39m[\u001b[39m\"\u001b[39m\u001b[39mself\u001b[39m\u001b[39m\"\u001b[39m, \u001b[39m\"\u001b[39m\u001b[39mlabels\u001b[39m\u001b[39m\"\u001b[39m])\n\u001b[0;32m   4807\u001b[0m \u001b[39mdef\u001b[39;00m \u001b[39mdrop\u001b[39m(\n\u001b[0;32m   4808\u001b[0m     \u001b[39mself\u001b[39m,\n\u001b[1;32m   (...)\u001b[0m\n\u001b[0;32m   4815\u001b[0m     errors: \u001b[39mstr\u001b[39m \u001b[39m=\u001b[39m \u001b[39m\"\u001b[39m\u001b[39mraise\u001b[39m\u001b[39m\"\u001b[39m,\n\u001b[0;32m   4816\u001b[0m ):\n\u001b[0;32m   4817\u001b[0m \u001b[39m    \u001b[39m\u001b[39m\"\"\"\u001b[39;00m\n\u001b[0;32m   4818\u001b[0m \u001b[39m    Drop specified labels from rows or columns.\u001b[39;00m\n\u001b[0;32m   4819\u001b[0m \n\u001b[1;32m   (...)\u001b[0m\n\u001b[0;32m   4952\u001b[0m \u001b[39m            weight  1.0     0.8\u001b[39;00m\n\u001b[0;32m   4953\u001b[0m \u001b[39m    \"\"\"\u001b[39;00m\n\u001b[1;32m-> 4954\u001b[0m     \u001b[39mreturn\u001b[39;00m \u001b[39msuper\u001b[39;49m()\u001b[39m.\u001b[39;49mdrop(\n\u001b[0;32m   4955\u001b[0m         labels\u001b[39m=\u001b[39;49mlabels,\n\u001b[0;32m   4956\u001b[0m         axis\u001b[39m=\u001b[39;49maxis,\n\u001b[0;32m   4957\u001b[0m         index\u001b[39m=\u001b[39;49mindex,\n\u001b[0;32m   4958\u001b[0m         columns\u001b[39m=\u001b[39;49mcolumns,\n\u001b[0;32m   4959\u001b[0m         level\u001b[39m=\u001b[39;49mlevel,\n\u001b[0;32m   4960\u001b[0m         inplace\u001b[39m=\u001b[39;49minplace,\n\u001b[0;32m   4961\u001b[0m         errors\u001b[39m=\u001b[39;49merrors,\n\u001b[0;32m   4962\u001b[0m     )\n",
      "File \u001b[1;32m~\\AppData\\Local\\Packages\\PythonSoftwareFoundation.Python.3.9_qbz5n2kfra8p0\\LocalCache\\local-packages\\Python39\\site-packages\\pandas\\core\\generic.py:4267\u001b[0m, in \u001b[0;36mNDFrame.drop\u001b[1;34m(self, labels, axis, index, columns, level, inplace, errors)\u001b[0m\n\u001b[0;32m   4265\u001b[0m \u001b[39mfor\u001b[39;00m axis, labels \u001b[39min\u001b[39;00m axes\u001b[39m.\u001b[39mitems():\n\u001b[0;32m   4266\u001b[0m     \u001b[39mif\u001b[39;00m labels \u001b[39mis\u001b[39;00m \u001b[39mnot\u001b[39;00m \u001b[39mNone\u001b[39;00m:\n\u001b[1;32m-> 4267\u001b[0m         obj \u001b[39m=\u001b[39m obj\u001b[39m.\u001b[39;49m_drop_axis(labels, axis, level\u001b[39m=\u001b[39;49mlevel, errors\u001b[39m=\u001b[39;49merrors)\n\u001b[0;32m   4269\u001b[0m \u001b[39mif\u001b[39;00m inplace:\n\u001b[0;32m   4270\u001b[0m     \u001b[39mself\u001b[39m\u001b[39m.\u001b[39m_update_inplace(obj)\n",
      "File \u001b[1;32m~\\AppData\\Local\\Packages\\PythonSoftwareFoundation.Python.3.9_qbz5n2kfra8p0\\LocalCache\\local-packages\\Python39\\site-packages\\pandas\\core\\generic.py:4311\u001b[0m, in \u001b[0;36mNDFrame._drop_axis\u001b[1;34m(self, labels, axis, level, errors, consolidate, only_slice)\u001b[0m\n\u001b[0;32m   4309\u001b[0m         new_axis \u001b[39m=\u001b[39m axis\u001b[39m.\u001b[39mdrop(labels, level\u001b[39m=\u001b[39mlevel, errors\u001b[39m=\u001b[39merrors)\n\u001b[0;32m   4310\u001b[0m     \u001b[39melse\u001b[39;00m:\n\u001b[1;32m-> 4311\u001b[0m         new_axis \u001b[39m=\u001b[39m axis\u001b[39m.\u001b[39;49mdrop(labels, errors\u001b[39m=\u001b[39;49merrors)\n\u001b[0;32m   4312\u001b[0m     indexer \u001b[39m=\u001b[39m axis\u001b[39m.\u001b[39mget_indexer(new_axis)\n\u001b[0;32m   4314\u001b[0m \u001b[39m# Case for non-unique axis\u001b[39;00m\n\u001b[0;32m   4315\u001b[0m \u001b[39melse\u001b[39;00m:\n",
      "File \u001b[1;32m~\\AppData\\Local\\Packages\\PythonSoftwareFoundation.Python.3.9_qbz5n2kfra8p0\\LocalCache\\local-packages\\Python39\\site-packages\\pandas\\core\\indexes\\base.py:6644\u001b[0m, in \u001b[0;36mIndex.drop\u001b[1;34m(self, labels, errors)\u001b[0m\n\u001b[0;32m   6642\u001b[0m \u001b[39mif\u001b[39;00m mask\u001b[39m.\u001b[39many():\n\u001b[0;32m   6643\u001b[0m     \u001b[39mif\u001b[39;00m errors \u001b[39m!=\u001b[39m \u001b[39m\"\u001b[39m\u001b[39mignore\u001b[39m\u001b[39m\"\u001b[39m:\n\u001b[1;32m-> 6644\u001b[0m         \u001b[39mraise\u001b[39;00m \u001b[39mKeyError\u001b[39;00m(\u001b[39mf\u001b[39m\u001b[39m\"\u001b[39m\u001b[39m{\u001b[39;00m\u001b[39mlist\u001b[39m(labels[mask])\u001b[39m}\u001b[39;00m\u001b[39m not found in axis\u001b[39m\u001b[39m\"\u001b[39m)\n\u001b[0;32m   6645\u001b[0m     indexer \u001b[39m=\u001b[39m indexer[\u001b[39m~\u001b[39mmask]\n\u001b[0;32m   6646\u001b[0m \u001b[39mreturn\u001b[39;00m \u001b[39mself\u001b[39m\u001b[39m.\u001b[39mdelete(indexer)\n",
      "\u001b[1;31mKeyError\u001b[0m: \"['alive', 'class', 'adult_male', 'embark_town', 'alone'] not found in axis\""
     ]
    }
   ],
   "source": [
    "df.drop(columns=[\"alive\", \"class\", \"adult_male\", \"embark_town\", \"alone\"], inplace=True)"
   ]
  },
  {
   "cell_type": "code",
   "execution_count": 23,
   "id": "d88ec298",
   "metadata": {},
   "outputs": [
    {
     "data": {
      "text/plain": [
       "(891, 10)"
      ]
     },
     "execution_count": 23,
     "metadata": {},
     "output_type": "execute_result"
    }
   ],
   "source": [
    "df.shape"
   ]
  },
  {
   "cell_type": "markdown",
   "id": "ff7ea634",
   "metadata": {},
   "source": [
    "---\n",
    "<a id=2></a>\n",
    "[Topへ](#0)\n",
    "\n",
    "---\n",
    "## 2. 欠損値の処理"
   ]
  },
  {
   "cell_type": "markdown",
   "id": "efe28235",
   "metadata": {},
   "source": [
    "* 欠損値の確認\n",
    "* 欠損値の処理('deck')\n",
    "* 欠損値の処理('embarked')：予測を試みる\n",
    "---"
   ]
  },
  {
   "cell_type": "markdown",
   "id": "c81b3ef2",
   "metadata": {},
   "source": [
    "欠損値の確認"
   ]
  },
  {
   "cell_type": "code",
   "execution_count": 26,
   "id": "5a65dfa6",
   "metadata": {},
   "outputs": [
    {
     "data": {
      "text/plain": [
       "survived      0\n",
       "pclass        0\n",
       "sex           0\n",
       "age         177\n",
       "sibsp         0\n",
       "parch         0\n",
       "fare          0\n",
       "embarked      2\n",
       "who           0\n",
       "deck        688\n",
       "dtype: int64"
      ]
     },
     "execution_count": 26,
     "metadata": {},
     "output_type": "execute_result"
    }
   ],
   "source": [
    "df.isnull().sum(axis=0)"
   ]
  },
  {
   "cell_type": "markdown",
   "id": "04fbf81e",
   "metadata": {},
   "source": [
    "欠損値の処理('deck')"
   ]
  },
  {
   "cell_type": "code",
   "execution_count": 28,
   "id": "f097db24",
   "metadata": {},
   "outputs": [
    {
     "data": {
      "text/plain": [
       "A    15\n",
       "B    47\n",
       "C    59\n",
       "D    33\n",
       "E    32\n",
       "F    13\n",
       "G     4\n",
       "Name: deck, dtype: int64"
      ]
     },
     "execution_count": 28,
     "metadata": {},
     "output_type": "execute_result"
    }
   ],
   "source": [
    "df[\"deck\"].value_counts().sort_index()"
   ]
  },
  {
   "cell_type": "code",
   "execution_count": 31,
   "id": "812dfd9f",
   "metadata": {},
   "outputs": [
    {
     "data": {
      "text/html": [
       "<div>\n",
       "<style scoped>\n",
       "    .dataframe tbody tr th:only-of-type {\n",
       "        vertical-align: middle;\n",
       "    }\n",
       "\n",
       "    .dataframe tbody tr th {\n",
       "        vertical-align: top;\n",
       "    }\n",
       "\n",
       "    .dataframe thead th {\n",
       "        text-align: right;\n",
       "    }\n",
       "</style>\n",
       "<table border=\"1\" class=\"dataframe\">\n",
       "  <thead>\n",
       "    <tr style=\"text-align: right;\">\n",
       "      <th></th>\n",
       "      <th>count</th>\n",
       "      <th>mean</th>\n",
       "      <th>std</th>\n",
       "      <th>min</th>\n",
       "      <th>25%</th>\n",
       "      <th>50%</th>\n",
       "      <th>75%</th>\n",
       "      <th>max</th>\n",
       "    </tr>\n",
       "    <tr>\n",
       "      <th>deck</th>\n",
       "      <th></th>\n",
       "      <th></th>\n",
       "      <th></th>\n",
       "      <th></th>\n",
       "      <th></th>\n",
       "      <th></th>\n",
       "      <th></th>\n",
       "      <th></th>\n",
       "    </tr>\n",
       "  </thead>\n",
       "  <tbody>\n",
       "    <tr>\n",
       "      <th>A</th>\n",
       "      <td>15.0</td>\n",
       "      <td>0.466667</td>\n",
       "      <td>0.516398</td>\n",
       "      <td>0.0</td>\n",
       "      <td>0.00</td>\n",
       "      <td>0.0</td>\n",
       "      <td>1.0</td>\n",
       "      <td>1.0</td>\n",
       "    </tr>\n",
       "    <tr>\n",
       "      <th>B</th>\n",
       "      <td>47.0</td>\n",
       "      <td>0.744681</td>\n",
       "      <td>0.440755</td>\n",
       "      <td>0.0</td>\n",
       "      <td>0.50</td>\n",
       "      <td>1.0</td>\n",
       "      <td>1.0</td>\n",
       "      <td>1.0</td>\n",
       "    </tr>\n",
       "    <tr>\n",
       "      <th>C</th>\n",
       "      <td>59.0</td>\n",
       "      <td>0.593220</td>\n",
       "      <td>0.495450</td>\n",
       "      <td>0.0</td>\n",
       "      <td>0.00</td>\n",
       "      <td>1.0</td>\n",
       "      <td>1.0</td>\n",
       "      <td>1.0</td>\n",
       "    </tr>\n",
       "    <tr>\n",
       "      <th>D</th>\n",
       "      <td>33.0</td>\n",
       "      <td>0.757576</td>\n",
       "      <td>0.435194</td>\n",
       "      <td>0.0</td>\n",
       "      <td>1.00</td>\n",
       "      <td>1.0</td>\n",
       "      <td>1.0</td>\n",
       "      <td>1.0</td>\n",
       "    </tr>\n",
       "    <tr>\n",
       "      <th>E</th>\n",
       "      <td>32.0</td>\n",
       "      <td>0.750000</td>\n",
       "      <td>0.439941</td>\n",
       "      <td>0.0</td>\n",
       "      <td>0.75</td>\n",
       "      <td>1.0</td>\n",
       "      <td>1.0</td>\n",
       "      <td>1.0</td>\n",
       "    </tr>\n",
       "    <tr>\n",
       "      <th>F</th>\n",
       "      <td>13.0</td>\n",
       "      <td>0.615385</td>\n",
       "      <td>0.506370</td>\n",
       "      <td>0.0</td>\n",
       "      <td>0.00</td>\n",
       "      <td>1.0</td>\n",
       "      <td>1.0</td>\n",
       "      <td>1.0</td>\n",
       "    </tr>\n",
       "    <tr>\n",
       "      <th>G</th>\n",
       "      <td>4.0</td>\n",
       "      <td>0.500000</td>\n",
       "      <td>0.577350</td>\n",
       "      <td>0.0</td>\n",
       "      <td>0.00</td>\n",
       "      <td>0.5</td>\n",
       "      <td>1.0</td>\n",
       "      <td>1.0</td>\n",
       "    </tr>\n",
       "  </tbody>\n",
       "</table>\n",
       "</div>"
      ],
      "text/plain": [
       "      count      mean       std  min   25%  50%  75%  max\n",
       "deck                                                     \n",
       "A      15.0  0.466667  0.516398  0.0  0.00  0.0  1.0  1.0\n",
       "B      47.0  0.744681  0.440755  0.0  0.50  1.0  1.0  1.0\n",
       "C      59.0  0.593220  0.495450  0.0  0.00  1.0  1.0  1.0\n",
       "D      33.0  0.757576  0.435194  0.0  1.00  1.0  1.0  1.0\n",
       "E      32.0  0.750000  0.439941  0.0  0.75  1.0  1.0  1.0\n",
       "F      13.0  0.615385  0.506370  0.0  0.00  1.0  1.0  1.0\n",
       "G       4.0  0.500000  0.577350  0.0  0.00  0.5  1.0  1.0"
      ]
     },
     "execution_count": 31,
     "metadata": {},
     "output_type": "execute_result"
    }
   ],
   "source": [
    "df.groupby(\"deck\")[\"survived\"].describe()"
   ]
  },
  {
   "cell_type": "markdown",
   "id": "f22168c1",
   "metadata": {},
   "source": [
    "欠損値の処理('embarked')：予測を試みる"
   ]
  },
  {
   "cell_type": "code",
   "execution_count": null,
   "id": "b6a5412c",
   "metadata": {},
   "outputs": [],
   "source": []
  },
  {
   "cell_type": "markdown",
   "id": "63fdca23",
   "metadata": {},
   "source": [
    "---\n",
    "<a id=3></a>\n",
    "[Topへ](#0)\n",
    "\n",
    "---\n",
    "## 3. 欠損した年齢を考えてみる（プロットの例を示す）"
   ]
  },
  {
   "cell_type": "markdown",
   "id": "e0163a8b",
   "metadata": {},
   "source": [
    "* 年齢を確認\n",
    "* 年齢の分布\n",
    "    * **sns.histplot()**\n",
    "    <p>\n",
    "        <a href=\"https://seaborn.pydata.org/generated/seaborn.histplot.html\" target=\"_blank\" rel=\"noreferrer noopener\">\n",
    "            Seaborn.histplot のページへ\n",
    "        </a>\n",
    "    </p>\n",
    "\n",
    "\n",
    "* 'age'と'pclass'の関係\n",
    "* 'age'と'sex'の関係\n",
    "* 相関関係（correlation）\n",
    "    * **sns.heatmap()**\n",
    "    <p>\n",
    "        <a href=\"https://seaborn.pydata.org/generated/seaborn.heatmap.html\" target=\"_blank\" rel=\"noreferrer noopener\">\n",
    "            Seaborn.heatmap のページへ\n",
    "        </a>\n",
    "    </p>\n",
    "\n",
    "\n",
    "* 個別の予測は困難であり、Seabornの学習がメインのため、レコードをすべて削除する\n",
    "* CSVファイルとして保存する\n",
    "\n",
    "---"
   ]
  },
  {
   "cell_type": "markdown",
   "id": "f8efd7f4",
   "metadata": {},
   "source": [
    "年齢を確認"
   ]
  },
  {
   "cell_type": "code",
   "execution_count": null,
   "id": "067187b9",
   "metadata": {},
   "outputs": [],
   "source": []
  },
  {
   "cell_type": "markdown",
   "id": "b8f3a04d",
   "metadata": {},
   "source": [
    "年齢の分布"
   ]
  },
  {
   "cell_type": "code",
   "execution_count": null,
   "id": "6fd74841",
   "metadata": {},
   "outputs": [],
   "source": []
  },
  {
   "cell_type": "code",
   "execution_count": null,
   "id": "fbaae785",
   "metadata": {},
   "outputs": [],
   "source": [
    "# google colaboratoryの場合\n",
    "# !pip install japanize-matplotlib"
   ]
  },
  {
   "cell_type": "code",
   "execution_count": null,
   "id": "b59e40b4",
   "metadata": {},
   "outputs": [],
   "source": [
    "# google colaboratoryの場合\n",
    "# import japanize_matplotlib\n",
    "# japanize_matplotlib.japanize()"
   ]
  },
  {
   "cell_type": "markdown",
   "id": "f11eb76f",
   "metadata": {},
   "source": [
    "'age'と'pclass'の関係"
   ]
  },
  {
   "cell_type": "code",
   "execution_count": null,
   "id": "1be5b710",
   "metadata": {},
   "outputs": [],
   "source": []
  },
  {
   "cell_type": "markdown",
   "id": "3abaec10",
   "metadata": {},
   "source": [
    "'age'と'sex'の関係"
   ]
  },
  {
   "cell_type": "code",
   "execution_count": null,
   "id": "e9fe55c6",
   "metadata": {},
   "outputs": [],
   "source": []
  },
  {
   "cell_type": "markdown",
   "id": "6d0824a0",
   "metadata": {},
   "source": [
    "相関関係"
   ]
  },
  {
   "cell_type": "code",
   "execution_count": null,
   "id": "9d7b9906",
   "metadata": {},
   "outputs": [],
   "source": []
  },
  {
   "cell_type": "markdown",
   "id": "10afe66b",
   "metadata": {},
   "source": [
    "個別の予測は困難であり、Seabornの学習がメインのため、レコードをすべて削除する"
   ]
  },
  {
   "cell_type": "code",
   "execution_count": null,
   "id": "68cbcd06",
   "metadata": {},
   "outputs": [],
   "source": []
  },
  {
   "cell_type": "markdown",
   "id": "37b86c84",
   "metadata": {},
   "source": [
    "CSVファイルとして保存する"
   ]
  },
  {
   "cell_type": "code",
   "execution_count": null,
   "id": "fac92b66",
   "metadata": {},
   "outputs": [],
   "source": []
  },
  {
   "cell_type": "markdown",
   "id": "ba627da6",
   "metadata": {},
   "source": [
    "---\n",
    "<a id=4></a>\n",
    "[Topへ](#0)\n",
    "\n",
    "---\n",
    "## 4. カテゴリカルプロット"
   ]
  },
  {
   "cell_type": "markdown",
   "id": "22451491",
   "metadata": {},
   "source": [
    "* キャットプロットとストリッププロット\n",
    " * **sns.catplot()**\n",
    "    <p>\n",
    "        <a href=\"https://seaborn.pydata.org/generated/seaborn.catplot.html\" target=\"_blank\" rel=\"noreferrer noopener\">\n",
    "            Seaborn.catplot のページへ\n",
    "        </a>\n",
    "    </p>\n",
    "    \n",
    "\n",
    "* カウントプロット\n",
    "    * **sns.countplot()**\n",
    "    <p>\n",
    "        <a href=\"https://seaborn.pydata.org/generated/seaborn.countplot.html\" target=\"_blank\" rel=\"noreferrer noopener\">\n",
    "            Seaborn.countplot のページへ\n",
    "        </a>\n",
    "    </p>\n",
    "\n",
    "\n",
    "* バープロット\n",
    " * **sns.barplot()**\n",
    "    <p>\n",
    "        <a href=\"https://seaborn.pydata.org/generated/seaborn.barplot.html\" target=\"_blank\" rel=\"noreferrer noopener\">\n",
    "            Seaborn.barplot のページへ\n",
    "        </a>\n",
    "    </p>\n",
    "\n",
    "\n",
    "* ボックスプロット\n",
    " * **sns.boxplot()**\n",
    "    <p>\n",
    "        <a href=\"https://seaborn.pydata.org/generated/seaborn.boxplot.html\" target=\"_blank\" rel=\"noreferrer noopener\">\n",
    "            Seaborn.boxplot のページへ\n",
    "        </a>\n",
    "    </p>\n",
    "    \n",
    "\n",
    "* バイオリンプロット\n",
    " * **sns.violinplot()**\n",
    "    <p>\n",
    "        <a href=\"https://seaborn.pydata.org/generated/seaborn.violinplot.html\" target=\"_blank\" rel=\"noreferrer noopener\">\n",
    "            Seaborn.violinplot のページへ\n",
    "        </a>\n",
    "    </p>\n",
    "    \n",
    "    \n",
    "* スウォームプロット\n",
    " * **sns.swarmplot()**\n",
    "    <p>\n",
    "        <a href=\"https://seaborn.pydata.org/generated/seaborn.swarmplot.html\" target=\"_blank\" rel=\"noreferrer noopener\">\n",
    "            Seaborn.swarmplot のページへ\n",
    "        </a>\n",
    "    </p>\n",
    "    \n",
    "\n",
    "\n",
    "---"
   ]
  },
  {
   "cell_type": "markdown",
   "id": "e40c82d3",
   "metadata": {},
   "source": [
    "キャットプロットとストリッププロット"
   ]
  },
  {
   "cell_type": "code",
   "execution_count": null,
   "id": "a32a9a48",
   "metadata": {},
   "outputs": [],
   "source": []
  },
  {
   "cell_type": "markdown",
   "id": "67b4bac4",
   "metadata": {},
   "source": [
    "カウントプロット"
   ]
  },
  {
   "cell_type": "code",
   "execution_count": null,
   "id": "a6081ed9",
   "metadata": {},
   "outputs": [],
   "source": []
  },
  {
   "cell_type": "markdown",
   "id": "9b4180b8",
   "metadata": {},
   "source": [
    "バープロット"
   ]
  },
  {
   "cell_type": "code",
   "execution_count": null,
   "id": "bae163c3",
   "metadata": {},
   "outputs": [],
   "source": []
  },
  {
   "cell_type": "markdown",
   "id": "70893b90",
   "metadata": {},
   "source": [
    "ボックスプロット"
   ]
  },
  {
   "cell_type": "code",
   "execution_count": null,
   "id": "74a342b2",
   "metadata": {},
   "outputs": [],
   "source": []
  },
  {
   "cell_type": "markdown",
   "id": "91220b46",
   "metadata": {},
   "source": [
    "バイオリンプロット"
   ]
  },
  {
   "cell_type": "code",
   "execution_count": null,
   "id": "574a9653",
   "metadata": {},
   "outputs": [],
   "source": []
  },
  {
   "cell_type": "markdown",
   "id": "dd720504",
   "metadata": {},
   "source": [
    "スウォームプロット"
   ]
  },
  {
   "cell_type": "code",
   "execution_count": null,
   "id": "a9fbe372",
   "metadata": {},
   "outputs": [],
   "source": []
  },
  {
   "cell_type": "markdown",
   "id": "f0d952ab",
   "metadata": {},
   "source": [
    "---\n",
    " <a id=4></a>\n",
    "[Topへ](#0)\n",
    "\n",
    "---\n",
    "## 以上\n",
    "    \n",
    "---"
   ]
  },
  {
   "cell_type": "code",
   "execution_count": null,
   "id": "af56fa32",
   "metadata": {},
   "outputs": [],
   "source": []
  }
 ],
 "metadata": {
  "kernelspec": {
   "display_name": "Python 3",
   "language": "python",
   "name": "python3"
  },
  "language_info": {
   "codemirror_mode": {
    "name": "ipython",
    "version": 3
   },
   "file_extension": ".py",
   "mimetype": "text/x-python",
   "name": "python",
   "nbconvert_exporter": "python",
   "pygments_lexer": "ipython3",
   "version": "3.7.10"
  }
 },
 "nbformat": 4,
 "nbformat_minor": 5
}
