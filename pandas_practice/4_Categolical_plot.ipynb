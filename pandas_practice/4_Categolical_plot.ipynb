{
 "cells": [
  {
   "cell_type": "markdown",
   "id": "23c6d4cc",
   "metadata": {},
   "source": [
    "<a id=0></a>\n",
    "# 4.Categorical Plot"
   ]
  },
  {
   "cell_type": "markdown",
   "id": "cfd115fa",
   "metadata": {},
   "source": [
    "---\n",
    "### [1.SearbornのデータセットからDataFrameを作成 ](#1)\n",
    "### [2.欠損値の処理 ](#2)\n",
    "### [3.欠損した年齢を考えてみる（プロットの例を示す）](#3)\n",
    "### [4.カテゴリカルプロット](#4)\n",
    "---"
   ]
  },
  {
   "cell_type": "code",
   "execution_count": 1,
   "id": "5f4b23d4",
   "metadata": {
    "scrolled": false
   },
   "outputs": [],
   "source": [
    "import numpy as np\n",
    "import pandas as pd\n",
    "import matplotlib.pyplot as plt\n",
    "import seaborn as sns"
   ]
  },
  {
   "cell_type": "markdown",
   "id": "cff153af",
   "metadata": {},
   "source": [
    "---\n",
    "<a id=1></a>\n",
    "[Topへ](#0)\n",
    "\n",
    "---\n",
    "## 1. SearbornのデータセットからDataFrameを作成"
   ]
  },
  {
   "cell_type": "markdown",
   "id": "75b9359b",
   "metadata": {},
   "source": [
    "* データセット(Titanic)を読み込む\n",
    "* データセットの理解と整理、Kaggleの紹介\n",
    "* 重複カラムの処理\n",
    "---"
   ]
  },
  {
   "cell_type": "markdown",
   "id": "68f0ca02",
   "metadata": {},
   "source": [
    "データセット(Titanic)を読み込む"
   ]
  },
  {
   "cell_type": "code",
   "execution_count": 2,
   "id": "e3c0d5c1",
   "metadata": {},
   "outputs": [
    {
     "data": {
      "text/plain": [
       "['anagrams',\n",
       " 'anscombe',\n",
       " 'attention',\n",
       " 'brain_networks',\n",
       " 'car_crashes',\n",
       " 'diamonds',\n",
       " 'dots',\n",
       " 'dowjones',\n",
       " 'exercise',\n",
       " 'flights',\n",
       " 'fmri',\n",
       " 'geyser',\n",
       " 'glue',\n",
       " 'healthexp',\n",
       " 'iris',\n",
       " 'mpg',\n",
       " 'penguins',\n",
       " 'planets',\n",
       " 'seaice',\n",
       " 'taxis',\n",
       " 'tips',\n",
       " 'titanic']"
      ]
     },
     "execution_count": 2,
     "metadata": {},
     "output_type": "execute_result"
    }
   ],
   "source": [
    "sns.get_dataset_names()"
   ]
  },
  {
   "cell_type": "markdown",
   "id": "df5d2ffa",
   "metadata": {},
   "source": [
    "データセットの理解と整理、Kaggleの紹介"
   ]
  },
  {
   "cell_type": "markdown",
   "id": "918146ac",
   "metadata": {},
   "source": [
    "<p>\n",
    "    <a href=\"https://www.kaggle.com/competitions/titanic/data\" target=\"_blank\" rel=\"noreferrer noopener\">\n",
    "        Kaggle Dataset Titanic のページへ\n",
    "    </a>\n",
    "</p>\n",
    "\n",
    "    survival : Survival\t0 = No, 1 = Yes  \n",
    "    pclass   : Ticket class\t1 = 1st, 2 = 2nd, 3 = 3rd  \n",
    "    sex\t  : Sex\t  \n",
    "    age      : Age in years  \t\n",
    "    sibsp    : # of siblings / spouses aboard the Titanic  (兄弟姉妹 / 配偶者)  \n",
    "    parch    : # of parents / children aboard the Titanic\t(親 / 子)  \n",
    "    fare     : Passenger fare\t\n",
    "    embarked : Port of Embarkation\tC = Cherbourg, Q = Queenstown, S = Southampton  \n",
    "    who      : man or female or child\n",
    "    class, who, adult_male, deck, embark_town, alive, alone\n",
    "    ※ 一部変更しています"
   ]
  },
  {
   "cell_type": "code",
   "execution_count": 3,
   "id": "259bf089",
   "metadata": {},
   "outputs": [],
   "source": [
    "df = sns.load_dataset(name=\"titanic\")"
   ]
  },
  {
   "cell_type": "markdown",
   "id": "999fafd8",
   "metadata": {},
   "source": [
    "重複カラムの処理（'alive', 'class', 'adult_male', 'embark_town', 'alone'）"
   ]
  },
  {
   "cell_type": "code",
   "execution_count": 4,
   "id": "48894174",
   "metadata": {},
   "outputs": [
    {
     "name": "stdout",
     "output_type": "stream",
     "text": [
      "<class 'pandas.core.frame.DataFrame'>\n",
      "RangeIndex: 891 entries, 0 to 890\n",
      "Data columns (total 15 columns):\n",
      " #   Column       Non-Null Count  Dtype   \n",
      "---  ------       --------------  -----   \n",
      " 0   survived     891 non-null    int64   \n",
      " 1   pclass       891 non-null    int64   \n",
      " 2   sex          891 non-null    object  \n",
      " 3   age          714 non-null    float64 \n",
      " 4   sibsp        891 non-null    int64   \n",
      " 5   parch        891 non-null    int64   \n",
      " 6   fare         891 non-null    float64 \n",
      " 7   embarked     889 non-null    object  \n",
      " 8   class        891 non-null    category\n",
      " 9   who          891 non-null    object  \n",
      " 10  adult_male   891 non-null    bool    \n",
      " 11  deck         203 non-null    category\n",
      " 12  embark_town  889 non-null    object  \n",
      " 13  alive        891 non-null    object  \n",
      " 14  alone        891 non-null    bool    \n",
      "dtypes: bool(2), category(2), float64(2), int64(4), object(5)\n",
      "memory usage: 80.7+ KB\n"
     ]
    }
   ],
   "source": [
    "df.info()"
   ]
  },
  {
   "cell_type": "code",
   "execution_count": 5,
   "id": "6da44f97",
   "metadata": {},
   "outputs": [
    {
     "data": {
      "text/plain": [
       "(array([0, 1], dtype=int64), array(['no', 'yes'], dtype=object))"
      ]
     },
     "execution_count": 5,
     "metadata": {},
     "output_type": "execute_result"
    }
   ],
   "source": [
    "df[\"survived\"].unique(), df[\"alive\"].unique()"
   ]
  },
  {
   "cell_type": "code",
   "execution_count": 6,
   "id": "26e8d225",
   "metadata": {},
   "outputs": [
    {
     "data": {
      "text/plain": [
       "survived  alive\n",
       "0         no       549\n",
       "1         yes      342\n",
       "Name: count, dtype: int64"
      ]
     },
     "execution_count": 6,
     "metadata": {},
     "output_type": "execute_result"
    }
   ],
   "source": [
    "df[[\"survived\", \"alive\"]].value_counts()"
   ]
  },
  {
   "cell_type": "code",
   "execution_count": 7,
   "id": "5606c95f",
   "metadata": {},
   "outputs": [
    {
     "data": {
      "text/plain": [
       "pclass  class \n",
       "3       Third     491\n",
       "1       First     216\n",
       "2       Second    184\n",
       "Name: count, dtype: int64"
      ]
     },
     "execution_count": 7,
     "metadata": {},
     "output_type": "execute_result"
    }
   ],
   "source": [
    "df[[\"pclass\", \"class\"]].value_counts()"
   ]
  },
  {
   "cell_type": "code",
   "execution_count": 8,
   "id": "b011fa70",
   "metadata": {},
   "outputs": [
    {
     "data": {
      "text/plain": [
       "embarked  embark_town\n",
       "S         Southampton    644\n",
       "C         Cherbourg      168\n",
       "Q         Queenstown      77\n",
       "Name: count, dtype: int64"
      ]
     },
     "execution_count": 8,
     "metadata": {},
     "output_type": "execute_result"
    }
   ],
   "source": [
    "df[[\"embarked\", \"embark_town\"]].value_counts()"
   ]
  },
  {
   "cell_type": "code",
   "execution_count": 9,
   "id": "c39d782b",
   "metadata": {},
   "outputs": [
    {
     "data": {
      "text/plain": [
       "who    adult_male\n",
       "man    True          537\n",
       "woman  False         271\n",
       "child  False          83\n",
       "Name: count, dtype: int64"
      ]
     },
     "execution_count": 9,
     "metadata": {},
     "output_type": "execute_result"
    }
   ],
   "source": [
    "df[[\"who\", \"adult_male\"]].value_counts()"
   ]
  },
  {
   "cell_type": "code",
   "execution_count": 10,
   "id": "786f6532",
   "metadata": {},
   "outputs": [
    {
     "data": {
      "text/plain": [
       "array([ True])"
      ]
     },
     "execution_count": 10,
     "metadata": {},
     "output_type": "execute_result"
    }
   ],
   "source": [
    "df[(df[\"sibsp\"] == 0) & (df[\"parch\"] == 0)][\"alone\"].unique()"
   ]
  },
  {
   "cell_type": "code",
   "execution_count": 11,
   "id": "4d060abd",
   "metadata": {},
   "outputs": [
    {
     "data": {
      "text/plain": [
       "array([False])"
      ]
     },
     "execution_count": 11,
     "metadata": {},
     "output_type": "execute_result"
    }
   ],
   "source": [
    "df[(df[\"sibsp\"] != 0) | (df[\"parch\"] != 0)][\"alone\"].unique()\n"
   ]
  },
  {
   "attachments": {},
   "cell_type": "markdown",
   "id": "45fd1ed5",
   "metadata": {},
   "source": [
    "<p>\n",
    "    'alive', 'class', 'adult_male', 'embark_town', 'alone' のカラムを削除 \n",
    "    </p>"
   ]
  },
  {
   "cell_type": "code",
   "execution_count": 12,
   "id": "b7de6c56",
   "metadata": {},
   "outputs": [],
   "source": [
    "df.drop(columns=[\"alive\", \"class\", \"adult_male\", \"embark_town\", \"alone\"], inplace=True)"
   ]
  },
  {
   "cell_type": "code",
   "execution_count": 13,
   "id": "d88ec298",
   "metadata": {},
   "outputs": [
    {
     "data": {
      "text/plain": [
       "(891, 10)"
      ]
     },
     "execution_count": 13,
     "metadata": {},
     "output_type": "execute_result"
    }
   ],
   "source": [
    "df.shape"
   ]
  },
  {
   "cell_type": "markdown",
   "id": "ff7ea634",
   "metadata": {},
   "source": [
    "---\n",
    "<a id=2></a>\n",
    "[Topへ](#0)\n",
    "\n",
    "---\n",
    "## 2. 欠損値の処理"
   ]
  },
  {
   "cell_type": "markdown",
   "id": "efe28235",
   "metadata": {},
   "source": [
    "* 欠損値の確認\n",
    "* 欠損値の処理('deck')\n",
    "* 欠損値の処理('embarked')：予測を試みる\n",
    "---"
   ]
  },
  {
   "cell_type": "markdown",
   "id": "c81b3ef2",
   "metadata": {},
   "source": [
    "欠損値の確認"
   ]
  },
  {
   "cell_type": "code",
   "execution_count": 14,
   "id": "5a65dfa6",
   "metadata": {},
   "outputs": [
    {
     "data": {
      "text/plain": [
       "survived      0\n",
       "pclass        0\n",
       "sex           0\n",
       "age         177\n",
       "sibsp         0\n",
       "parch         0\n",
       "fare          0\n",
       "embarked      2\n",
       "who           0\n",
       "deck        688\n",
       "dtype: int64"
      ]
     },
     "execution_count": 14,
     "metadata": {},
     "output_type": "execute_result"
    }
   ],
   "source": [
    "df.isnull().sum(axis=0)"
   ]
  },
  {
   "cell_type": "markdown",
   "id": "04fbf81e",
   "metadata": {},
   "source": [
    "欠損値の処理('deck')"
   ]
  },
  {
   "cell_type": "code",
   "execution_count": 15,
   "id": "f097db24",
   "metadata": {},
   "outputs": [
    {
     "data": {
      "text/plain": [
       "deck\n",
       "A    15\n",
       "B    47\n",
       "C    59\n",
       "D    33\n",
       "E    32\n",
       "F    13\n",
       "G     4\n",
       "Name: count, dtype: int64"
      ]
     },
     "execution_count": 15,
     "metadata": {},
     "output_type": "execute_result"
    }
   ],
   "source": [
    "df[\"deck\"].value_counts().sort_index()"
   ]
  },
  {
   "cell_type": "code",
   "execution_count": 16,
   "id": "812dfd9f",
   "metadata": {},
   "outputs": [
    {
     "data": {
      "text/html": [
       "<div>\n",
       "<style scoped>\n",
       "    .dataframe tbody tr th:only-of-type {\n",
       "        vertical-align: middle;\n",
       "    }\n",
       "\n",
       "    .dataframe tbody tr th {\n",
       "        vertical-align: top;\n",
       "    }\n",
       "\n",
       "    .dataframe thead th {\n",
       "        text-align: right;\n",
       "    }\n",
       "</style>\n",
       "<table border=\"1\" class=\"dataframe\">\n",
       "  <thead>\n",
       "    <tr style=\"text-align: right;\">\n",
       "      <th></th>\n",
       "      <th>count</th>\n",
       "      <th>mean</th>\n",
       "      <th>std</th>\n",
       "      <th>min</th>\n",
       "      <th>25%</th>\n",
       "      <th>50%</th>\n",
       "      <th>75%</th>\n",
       "      <th>max</th>\n",
       "    </tr>\n",
       "    <tr>\n",
       "      <th>deck</th>\n",
       "      <th></th>\n",
       "      <th></th>\n",
       "      <th></th>\n",
       "      <th></th>\n",
       "      <th></th>\n",
       "      <th></th>\n",
       "      <th></th>\n",
       "      <th></th>\n",
       "    </tr>\n",
       "  </thead>\n",
       "  <tbody>\n",
       "    <tr>\n",
       "      <th>A</th>\n",
       "      <td>15.0</td>\n",
       "      <td>0.466667</td>\n",
       "      <td>0.516398</td>\n",
       "      <td>0.0</td>\n",
       "      <td>0.00</td>\n",
       "      <td>0.0</td>\n",
       "      <td>1.0</td>\n",
       "      <td>1.0</td>\n",
       "    </tr>\n",
       "    <tr>\n",
       "      <th>B</th>\n",
       "      <td>47.0</td>\n",
       "      <td>0.744681</td>\n",
       "      <td>0.440755</td>\n",
       "      <td>0.0</td>\n",
       "      <td>0.50</td>\n",
       "      <td>1.0</td>\n",
       "      <td>1.0</td>\n",
       "      <td>1.0</td>\n",
       "    </tr>\n",
       "    <tr>\n",
       "      <th>C</th>\n",
       "      <td>59.0</td>\n",
       "      <td>0.593220</td>\n",
       "      <td>0.495450</td>\n",
       "      <td>0.0</td>\n",
       "      <td>0.00</td>\n",
       "      <td>1.0</td>\n",
       "      <td>1.0</td>\n",
       "      <td>1.0</td>\n",
       "    </tr>\n",
       "    <tr>\n",
       "      <th>D</th>\n",
       "      <td>33.0</td>\n",
       "      <td>0.757576</td>\n",
       "      <td>0.435194</td>\n",
       "      <td>0.0</td>\n",
       "      <td>1.00</td>\n",
       "      <td>1.0</td>\n",
       "      <td>1.0</td>\n",
       "      <td>1.0</td>\n",
       "    </tr>\n",
       "    <tr>\n",
       "      <th>E</th>\n",
       "      <td>32.0</td>\n",
       "      <td>0.750000</td>\n",
       "      <td>0.439941</td>\n",
       "      <td>0.0</td>\n",
       "      <td>0.75</td>\n",
       "      <td>1.0</td>\n",
       "      <td>1.0</td>\n",
       "      <td>1.0</td>\n",
       "    </tr>\n",
       "    <tr>\n",
       "      <th>F</th>\n",
       "      <td>13.0</td>\n",
       "      <td>0.615385</td>\n",
       "      <td>0.506370</td>\n",
       "      <td>0.0</td>\n",
       "      <td>0.00</td>\n",
       "      <td>1.0</td>\n",
       "      <td>1.0</td>\n",
       "      <td>1.0</td>\n",
       "    </tr>\n",
       "    <tr>\n",
       "      <th>G</th>\n",
       "      <td>4.0</td>\n",
       "      <td>0.500000</td>\n",
       "      <td>0.577350</td>\n",
       "      <td>0.0</td>\n",
       "      <td>0.00</td>\n",
       "      <td>0.5</td>\n",
       "      <td>1.0</td>\n",
       "      <td>1.0</td>\n",
       "    </tr>\n",
       "  </tbody>\n",
       "</table>\n",
       "</div>"
      ],
      "text/plain": [
       "      count      mean       std  min   25%  50%  75%  max\n",
       "deck                                                     \n",
       "A      15.0  0.466667  0.516398  0.0  0.00  0.0  1.0  1.0\n",
       "B      47.0  0.744681  0.440755  0.0  0.50  1.0  1.0  1.0\n",
       "C      59.0  0.593220  0.495450  0.0  0.00  1.0  1.0  1.0\n",
       "D      33.0  0.757576  0.435194  0.0  1.00  1.0  1.0  1.0\n",
       "E      32.0  0.750000  0.439941  0.0  0.75  1.0  1.0  1.0\n",
       "F      13.0  0.615385  0.506370  0.0  0.00  1.0  1.0  1.0\n",
       "G       4.0  0.500000  0.577350  0.0  0.00  0.5  1.0  1.0"
      ]
     },
     "execution_count": 16,
     "metadata": {},
     "output_type": "execute_result"
    }
   ],
   "source": [
    "df.groupby(\"deck\")[\"survived\"].describe()"
   ]
  },
  {
   "cell_type": "code",
   "execution_count": 17,
   "id": "8d6c8fef",
   "metadata": {},
   "outputs": [],
   "source": [
    "df.drop(columns=[\"deck\"], inplace=True)"
   ]
  },
  {
   "cell_type": "code",
   "execution_count": 18,
   "id": "42797524",
   "metadata": {},
   "outputs": [
    {
     "data": {
      "text/plain": [
       "(891, 9)"
      ]
     },
     "execution_count": 18,
     "metadata": {},
     "output_type": "execute_result"
    }
   ],
   "source": [
    "df.shape"
   ]
  },
  {
   "cell_type": "markdown",
   "id": "f22168c1",
   "metadata": {},
   "source": [
    "欠損値の処理('embarked')：予測を試みる"
   ]
  },
  {
   "cell_type": "code",
   "execution_count": 22,
   "id": "b6a5412c",
   "metadata": {},
   "outputs": [
    {
     "data": {
      "text/html": [
       "<div>\n",
       "<style scoped>\n",
       "    .dataframe tbody tr th:only-of-type {\n",
       "        vertical-align: middle;\n",
       "    }\n",
       "\n",
       "    .dataframe tbody tr th {\n",
       "        vertical-align: top;\n",
       "    }\n",
       "\n",
       "    .dataframe thead th {\n",
       "        text-align: right;\n",
       "    }\n",
       "</style>\n",
       "<table border=\"1\" class=\"dataframe\">\n",
       "  <thead>\n",
       "    <tr style=\"text-align: right;\">\n",
       "      <th></th>\n",
       "      <th>survived</th>\n",
       "      <th>pclass</th>\n",
       "      <th>sex</th>\n",
       "      <th>age</th>\n",
       "      <th>sibsp</th>\n",
       "      <th>parch</th>\n",
       "      <th>fare</th>\n",
       "      <th>embarked</th>\n",
       "      <th>who</th>\n",
       "    </tr>\n",
       "  </thead>\n",
       "  <tbody>\n",
       "    <tr>\n",
       "      <th>61</th>\n",
       "      <td>1</td>\n",
       "      <td>1</td>\n",
       "      <td>female</td>\n",
       "      <td>38.0</td>\n",
       "      <td>0</td>\n",
       "      <td>0</td>\n",
       "      <td>80.0</td>\n",
       "      <td>NaN</td>\n",
       "      <td>woman</td>\n",
       "    </tr>\n",
       "    <tr>\n",
       "      <th>829</th>\n",
       "      <td>1</td>\n",
       "      <td>1</td>\n",
       "      <td>female</td>\n",
       "      <td>62.0</td>\n",
       "      <td>0</td>\n",
       "      <td>0</td>\n",
       "      <td>80.0</td>\n",
       "      <td>NaN</td>\n",
       "      <td>woman</td>\n",
       "    </tr>\n",
       "  </tbody>\n",
       "</table>\n",
       "</div>"
      ],
      "text/plain": [
       "     survived  pclass     sex   age  sibsp  parch  fare embarked    who\n",
       "61          1       1  female  38.0      0      0  80.0      NaN  woman\n",
       "829         1       1  female  62.0      0      0  80.0      NaN  woman"
      ]
     },
     "execution_count": 22,
     "metadata": {},
     "output_type": "execute_result"
    }
   ],
   "source": [
    "df[df[\"embarked\"].isnull()]"
   ]
  },
  {
   "cell_type": "code",
   "execution_count": 24,
   "id": "81ef8ae0",
   "metadata": {},
   "outputs": [
    {
     "data": {
      "text/html": [
       "<div>\n",
       "<style scoped>\n",
       "    .dataframe tbody tr th:only-of-type {\n",
       "        vertical-align: middle;\n",
       "    }\n",
       "\n",
       "    .dataframe tbody tr th {\n",
       "        vertical-align: top;\n",
       "    }\n",
       "\n",
       "    .dataframe thead th {\n",
       "        text-align: right;\n",
       "    }\n",
       "</style>\n",
       "<table border=\"1\" class=\"dataframe\">\n",
       "  <thead>\n",
       "    <tr style=\"text-align: right;\">\n",
       "      <th></th>\n",
       "      <th>count</th>\n",
       "      <th>mean</th>\n",
       "      <th>std</th>\n",
       "      <th>min</th>\n",
       "      <th>25%</th>\n",
       "      <th>50%</th>\n",
       "      <th>75%</th>\n",
       "      <th>max</th>\n",
       "    </tr>\n",
       "    <tr>\n",
       "      <th>embarked</th>\n",
       "      <th></th>\n",
       "      <th></th>\n",
       "      <th></th>\n",
       "      <th></th>\n",
       "      <th></th>\n",
       "      <th></th>\n",
       "      <th></th>\n",
       "      <th></th>\n",
       "    </tr>\n",
       "  </thead>\n",
       "  <tbody>\n",
       "    <tr>\n",
       "      <th>C</th>\n",
       "      <td>168.0</td>\n",
       "      <td>0.553571</td>\n",
       "      <td>0.498608</td>\n",
       "      <td>0.0</td>\n",
       "      <td>0.0</td>\n",
       "      <td>1.0</td>\n",
       "      <td>1.0</td>\n",
       "      <td>1.0</td>\n",
       "    </tr>\n",
       "    <tr>\n",
       "      <th>Q</th>\n",
       "      <td>77.0</td>\n",
       "      <td>0.389610</td>\n",
       "      <td>0.490860</td>\n",
       "      <td>0.0</td>\n",
       "      <td>0.0</td>\n",
       "      <td>0.0</td>\n",
       "      <td>1.0</td>\n",
       "      <td>1.0</td>\n",
       "    </tr>\n",
       "    <tr>\n",
       "      <th>S</th>\n",
       "      <td>644.0</td>\n",
       "      <td>0.336957</td>\n",
       "      <td>0.473037</td>\n",
       "      <td>0.0</td>\n",
       "      <td>0.0</td>\n",
       "      <td>0.0</td>\n",
       "      <td>1.0</td>\n",
       "      <td>1.0</td>\n",
       "    </tr>\n",
       "  </tbody>\n",
       "</table>\n",
       "</div>"
      ],
      "text/plain": [
       "          count      mean       std  min  25%  50%  75%  max\n",
       "embarked                                                    \n",
       "C         168.0  0.553571  0.498608  0.0  0.0  1.0  1.0  1.0\n",
       "Q          77.0  0.389610  0.490860  0.0  0.0  0.0  1.0  1.0\n",
       "S         644.0  0.336957  0.473037  0.0  0.0  0.0  1.0  1.0"
      ]
     },
     "execution_count": 24,
     "metadata": {},
     "output_type": "execute_result"
    }
   ],
   "source": [
    "df.groupby(\"embarked\")[\"survived\"].describe()"
   ]
  },
  {
   "cell_type": "code",
   "execution_count": 34,
   "id": "caecaacd",
   "metadata": {},
   "outputs": [
    {
     "data": {
      "text/plain": [
       "embarked\n",
       "C    18\n",
       "S    14\n",
       "Name: count, dtype: int64"
      ]
     },
     "execution_count": 34,
     "metadata": {},
     "output_type": "execute_result"
    }
   ],
   "source": [
    "vc1 = df[(df.pclass==1)&(df.sex==\"female\")&\n",
    "         (df.sibsp==0)&(df.parch==0)].embarked.value_counts()\n",
    "vc1"
   ]
  },
  {
   "cell_type": "code",
   "execution_count": 35,
   "id": "9615a4c7",
   "metadata": {},
   "outputs": [
    {
     "data": {
      "text/plain": [
       "embarked\n",
       "C    168\n",
       "S    644\n",
       "Name: count, dtype: int64"
      ]
     },
     "execution_count": 35,
     "metadata": {},
     "output_type": "execute_result"
    }
   ],
   "source": [
    "vc2 = df.embarked.value_counts()[[1, 0]]\n",
    "vc2"
   ]
  },
  {
   "cell_type": "code",
   "execution_count": 36,
   "id": "cde1af1b",
   "metadata": {},
   "outputs": [
    {
     "data": {
      "text/plain": [
       "embarked\n",
       "C    0.107143\n",
       "S    0.021739\n",
       "Name: count, dtype: float64"
      ]
     },
     "execution_count": 36,
     "metadata": {},
     "output_type": "execute_result"
    }
   ],
   "source": [
    "vc1 / vc2"
   ]
  },
  {
   "cell_type": "code",
   "execution_count": 41,
   "id": "e9a0c35a",
   "metadata": {},
   "outputs": [
    {
     "data": {
      "text/html": [
       "<div>\n",
       "<style scoped>\n",
       "    .dataframe tbody tr th:only-of-type {\n",
       "        vertical-align: middle;\n",
       "    }\n",
       "\n",
       "    .dataframe tbody tr th {\n",
       "        vertical-align: top;\n",
       "    }\n",
       "\n",
       "    .dataframe thead th {\n",
       "        text-align: right;\n",
       "    }\n",
       "</style>\n",
       "<table border=\"1\" class=\"dataframe\">\n",
       "  <thead>\n",
       "    <tr style=\"text-align: right;\">\n",
       "      <th></th>\n",
       "      <th>count</th>\n",
       "      <th>mean</th>\n",
       "      <th>std</th>\n",
       "      <th>min</th>\n",
       "      <th>25%</th>\n",
       "      <th>50%</th>\n",
       "      <th>75%</th>\n",
       "      <th>max</th>\n",
       "    </tr>\n",
       "    <tr>\n",
       "      <th>embarked</th>\n",
       "      <th></th>\n",
       "      <th></th>\n",
       "      <th></th>\n",
       "      <th></th>\n",
       "      <th></th>\n",
       "      <th></th>\n",
       "      <th></th>\n",
       "      <th></th>\n",
       "    </tr>\n",
       "  </thead>\n",
       "  <tbody>\n",
       "    <tr>\n",
       "      <th>C</th>\n",
       "      <td>61.0</td>\n",
       "      <td>28.344262</td>\n",
       "      <td>15.770830</td>\n",
       "      <td>0.75</td>\n",
       "      <td>17.0</td>\n",
       "      <td>24.0</td>\n",
       "      <td>40.000</td>\n",
       "      <td>60.0</td>\n",
       "    </tr>\n",
       "    <tr>\n",
       "      <th>Q</th>\n",
       "      <td>12.0</td>\n",
       "      <td>24.291667</td>\n",
       "      <td>8.147667</td>\n",
       "      <td>15.00</td>\n",
       "      <td>17.5</td>\n",
       "      <td>21.5</td>\n",
       "      <td>30.875</td>\n",
       "      <td>39.0</td>\n",
       "    </tr>\n",
       "    <tr>\n",
       "      <th>S</th>\n",
       "      <td>186.0</td>\n",
       "      <td>27.771505</td>\n",
       "      <td>13.690703</td>\n",
       "      <td>1.00</td>\n",
       "      <td>19.0</td>\n",
       "      <td>27.0</td>\n",
       "      <td>36.000</td>\n",
       "      <td>63.0</td>\n",
       "    </tr>\n",
       "  </tbody>\n",
       "</table>\n",
       "</div>"
      ],
      "text/plain": [
       "          count       mean        std    min   25%   50%     75%   max\n",
       "embarked                                                              \n",
       "C          61.0  28.344262  15.770830   0.75  17.0  24.0  40.000  60.0\n",
       "Q          12.0  24.291667   8.147667  15.00  17.5  21.5  30.875  39.0\n",
       "S         186.0  27.771505  13.690703   1.00  19.0  27.0  36.000  63.0"
      ]
     },
     "execution_count": 41,
     "metadata": {},
     "output_type": "execute_result"
    }
   ],
   "source": [
    "df[df.sex == \"female\"].groupby(\"embarked\")[\"age\"].describe()"
   ]
  },
  {
   "cell_type": "code",
   "execution_count": 49,
   "id": "7debc35b",
   "metadata": {},
   "outputs": [
    {
     "data": {
      "text/plain": [
       "Index([61, 829], dtype='int64')"
      ]
     },
     "execution_count": 49,
     "metadata": {},
     "output_type": "execute_result"
    }
   ],
   "source": [
    "df[df[\"embarked\"].isnull()].index"
   ]
  },
  {
   "cell_type": "code",
   "execution_count": 50,
   "id": "41285b3b",
   "metadata": {},
   "outputs": [],
   "source": [
    "df.loc[df[df[\"embarked\"].isnull()].index, \"embarked\"] = \"C\""
   ]
  },
  {
   "cell_type": "code",
   "execution_count": 54,
   "id": "938d99af",
   "metadata": {},
   "outputs": [
    {
     "data": {
      "text/plain": [
       "survived      0\n",
       "pclass        0\n",
       "sex           0\n",
       "age         177\n",
       "sibsp         0\n",
       "parch         0\n",
       "fare          0\n",
       "embarked      0\n",
       "who           0\n",
       "dtype: int64"
      ]
     },
     "execution_count": 54,
     "metadata": {},
     "output_type": "execute_result"
    }
   ],
   "source": [
    "df.isnull().sum()"
   ]
  },
  {
   "cell_type": "markdown",
   "id": "63fdca23",
   "metadata": {},
   "source": [
    "---\n",
    "<a id=3></a>\n",
    "[Topへ](#0)\n",
    "\n",
    "---\n",
    "## 3. 欠損した年齢を考えてみる（プロットの例を示す）"
   ]
  },
  {
   "cell_type": "markdown",
   "id": "e0163a8b",
   "metadata": {},
   "source": [
    "* 年齢を確認\n",
    "* 年齢の分布\n",
    "    * **sns.histplot()**\n",
    "    <p>\n",
    "        <a href=\"https://seaborn.pydata.org/generated/seaborn.histplot.html\" target=\"_blank\" rel=\"noreferrer noopener\">\n",
    "            Seaborn.histplot のページへ\n",
    "        </a>\n",
    "    </p>\n",
    "\n",
    "\n",
    "* 'age'と'pclass'の関係\n",
    "* 'age'と'sex'の関係\n",
    "* 相関関係（correlation）\n",
    "    * **sns.heatmap()**\n",
    "    <p>\n",
    "        <a href=\"https://seaborn.pydata.org/generated/seaborn.heatmap.html\" target=\"_blank\" rel=\"noreferrer noopener\">\n",
    "            Seaborn.heatmap のページへ\n",
    "        </a>\n",
    "    </p>\n",
    "\n",
    "\n",
    "* 個別の予測は困難であり、Seabornの学習がメインのため、レコードをすべて削除する\n",
    "* CSVファイルとして保存する\n",
    "\n",
    "---"
   ]
  },
  {
   "cell_type": "markdown",
   "id": "f8efd7f4",
   "metadata": {},
   "source": [
    "年齢を確認"
   ]
  },
  {
   "cell_type": "code",
   "execution_count": 55,
   "id": "067187b9",
   "metadata": {},
   "outputs": [
    {
     "data": {
      "text/html": [
       "<div>\n",
       "<style scoped>\n",
       "    .dataframe tbody tr th:only-of-type {\n",
       "        vertical-align: middle;\n",
       "    }\n",
       "\n",
       "    .dataframe tbody tr th {\n",
       "        vertical-align: top;\n",
       "    }\n",
       "\n",
       "    .dataframe thead th {\n",
       "        text-align: right;\n",
       "    }\n",
       "</style>\n",
       "<table border=\"1\" class=\"dataframe\">\n",
       "  <thead>\n",
       "    <tr style=\"text-align: right;\">\n",
       "      <th></th>\n",
       "      <th>survived</th>\n",
       "      <th>pclass</th>\n",
       "      <th>sex</th>\n",
       "      <th>age</th>\n",
       "      <th>sibsp</th>\n",
       "      <th>parch</th>\n",
       "      <th>fare</th>\n",
       "      <th>embarked</th>\n",
       "      <th>who</th>\n",
       "    </tr>\n",
       "  </thead>\n",
       "  <tbody>\n",
       "    <tr>\n",
       "      <th>5</th>\n",
       "      <td>0</td>\n",
       "      <td>3</td>\n",
       "      <td>male</td>\n",
       "      <td>NaN</td>\n",
       "      <td>0</td>\n",
       "      <td>0</td>\n",
       "      <td>8.4583</td>\n",
       "      <td>Q</td>\n",
       "      <td>man</td>\n",
       "    </tr>\n",
       "    <tr>\n",
       "      <th>17</th>\n",
       "      <td>1</td>\n",
       "      <td>2</td>\n",
       "      <td>male</td>\n",
       "      <td>NaN</td>\n",
       "      <td>0</td>\n",
       "      <td>0</td>\n",
       "      <td>13.0000</td>\n",
       "      <td>S</td>\n",
       "      <td>man</td>\n",
       "    </tr>\n",
       "    <tr>\n",
       "      <th>19</th>\n",
       "      <td>1</td>\n",
       "      <td>3</td>\n",
       "      <td>female</td>\n",
       "      <td>NaN</td>\n",
       "      <td>0</td>\n",
       "      <td>0</td>\n",
       "      <td>7.2250</td>\n",
       "      <td>C</td>\n",
       "      <td>woman</td>\n",
       "    </tr>\n",
       "    <tr>\n",
       "      <th>26</th>\n",
       "      <td>0</td>\n",
       "      <td>3</td>\n",
       "      <td>male</td>\n",
       "      <td>NaN</td>\n",
       "      <td>0</td>\n",
       "      <td>0</td>\n",
       "      <td>7.2250</td>\n",
       "      <td>C</td>\n",
       "      <td>man</td>\n",
       "    </tr>\n",
       "    <tr>\n",
       "      <th>28</th>\n",
       "      <td>1</td>\n",
       "      <td>3</td>\n",
       "      <td>female</td>\n",
       "      <td>NaN</td>\n",
       "      <td>0</td>\n",
       "      <td>0</td>\n",
       "      <td>7.8792</td>\n",
       "      <td>Q</td>\n",
       "      <td>woman</td>\n",
       "    </tr>\n",
       "  </tbody>\n",
       "</table>\n",
       "</div>"
      ],
      "text/plain": [
       "    survived  pclass     sex  age  sibsp  parch     fare embarked    who\n",
       "5          0       3    male  NaN      0      0   8.4583        Q    man\n",
       "17         1       2    male  NaN      0      0  13.0000        S    man\n",
       "19         1       3  female  NaN      0      0   7.2250        C  woman\n",
       "26         0       3    male  NaN      0      0   7.2250        C    man\n",
       "28         1       3  female  NaN      0      0   7.8792        Q  woman"
      ]
     },
     "execution_count": 55,
     "metadata": {},
     "output_type": "execute_result"
    }
   ],
   "source": [
    "df[df.age.isnull()].head()"
   ]
  },
  {
   "cell_type": "code",
   "execution_count": 56,
   "id": "d3d69727",
   "metadata": {},
   "outputs": [
    {
     "data": {
      "text/plain": [
       "array(['man', 'woman', 'child'], dtype=object)"
      ]
     },
     "execution_count": 56,
     "metadata": {},
     "output_type": "execute_result"
    }
   ],
   "source": [
    "# childがある\n",
    "df.who.unique()"
   ]
  },
  {
   "cell_type": "code",
   "execution_count": 58,
   "id": "3b939244",
   "metadata": {},
   "outputs": [
    {
     "data": {
      "text/plain": [
       "array(['man', 'woman'], dtype=object)"
      ]
     },
     "execution_count": 58,
     "metadata": {},
     "output_type": "execute_result"
    }
   ],
   "source": [
    "# 年齢が欠損しているデータ内にchildはない\n",
    "df[df.age.isnull()].who.unique()"
   ]
  },
  {
   "cell_type": "code",
   "execution_count": 60,
   "id": "41a28b55",
   "metadata": {},
   "outputs": [
    {
     "data": {
      "text/plain": [
       "15.0"
      ]
     },
     "execution_count": 60,
     "metadata": {},
     "output_type": "execute_result"
    }
   ],
   "source": [
    "df[df.who==\"child\"].age.max()"
   ]
  },
  {
   "cell_type": "code",
   "execution_count": 61,
   "id": "2cc9e500",
   "metadata": {},
   "outputs": [
    {
     "data": {
      "text/html": [
       "<div>\n",
       "<style scoped>\n",
       "    .dataframe tbody tr th:only-of-type {\n",
       "        vertical-align: middle;\n",
       "    }\n",
       "\n",
       "    .dataframe tbody tr th {\n",
       "        vertical-align: top;\n",
       "    }\n",
       "\n",
       "    .dataframe thead th {\n",
       "        text-align: right;\n",
       "    }\n",
       "</style>\n",
       "<table border=\"1\" class=\"dataframe\">\n",
       "  <thead>\n",
       "    <tr style=\"text-align: right;\">\n",
       "      <th></th>\n",
       "      <th>survived</th>\n",
       "      <th>pclass</th>\n",
       "      <th>sex</th>\n",
       "      <th>age</th>\n",
       "      <th>sibsp</th>\n",
       "      <th>parch</th>\n",
       "      <th>fare</th>\n",
       "      <th>embarked</th>\n",
       "      <th>who</th>\n",
       "    </tr>\n",
       "  </thead>\n",
       "  <tbody>\n",
       "    <tr>\n",
       "      <th>518</th>\n",
       "      <td>1</td>\n",
       "      <td>2</td>\n",
       "      <td>female</td>\n",
       "      <td>36.0</td>\n",
       "      <td>1</td>\n",
       "      <td>0</td>\n",
       "      <td>26.000</td>\n",
       "      <td>S</td>\n",
       "      <td>woman</td>\n",
       "    </tr>\n",
       "    <tr>\n",
       "      <th>320</th>\n",
       "      <td>0</td>\n",
       "      <td>3</td>\n",
       "      <td>male</td>\n",
       "      <td>22.0</td>\n",
       "      <td>0</td>\n",
       "      <td>0</td>\n",
       "      <td>7.250</td>\n",
       "      <td>S</td>\n",
       "      <td>man</td>\n",
       "    </tr>\n",
       "    <tr>\n",
       "      <th>754</th>\n",
       "      <td>1</td>\n",
       "      <td>2</td>\n",
       "      <td>female</td>\n",
       "      <td>48.0</td>\n",
       "      <td>1</td>\n",
       "      <td>2</td>\n",
       "      <td>65.000</td>\n",
       "      <td>S</td>\n",
       "      <td>woman</td>\n",
       "    </tr>\n",
       "    <tr>\n",
       "      <th>579</th>\n",
       "      <td>1</td>\n",
       "      <td>3</td>\n",
       "      <td>male</td>\n",
       "      <td>32.0</td>\n",
       "      <td>0</td>\n",
       "      <td>0</td>\n",
       "      <td>7.925</td>\n",
       "      <td>S</td>\n",
       "      <td>man</td>\n",
       "    </tr>\n",
       "    <tr>\n",
       "      <th>385</th>\n",
       "      <td>0</td>\n",
       "      <td>2</td>\n",
       "      <td>male</td>\n",
       "      <td>18.0</td>\n",
       "      <td>0</td>\n",
       "      <td>0</td>\n",
       "      <td>73.500</td>\n",
       "      <td>S</td>\n",
       "      <td>man</td>\n",
       "    </tr>\n",
       "  </tbody>\n",
       "</table>\n",
       "</div>"
      ],
      "text/plain": [
       "     survived  pclass     sex   age  sibsp  parch    fare embarked    who\n",
       "518         1       2  female  36.0      1      0  26.000        S  woman\n",
       "320         0       3    male  22.0      0      0   7.250        S    man\n",
       "754         1       2  female  48.0      1      2  65.000        S  woman\n",
       "579         1       3    male  32.0      0      0   7.925        S    man\n",
       "385         0       2    male  18.0      0      0  73.500        S    man"
      ]
     },
     "execution_count": 61,
     "metadata": {},
     "output_type": "execute_result"
    }
   ],
   "source": [
    "df_adult = df[15 < df.age]\n",
    "df_adult.sample(5)"
   ]
  },
  {
   "cell_type": "markdown",
   "id": "b8f3a04d",
   "metadata": {},
   "source": [
    "年齢の分布"
   ]
  },
  {
   "cell_type": "code",
   "execution_count": 62,
   "id": "6fd74841",
   "metadata": {},
   "outputs": [
    {
     "data": {
      "text/plain": [
       "count    631.000000\n",
       "mean      32.767829\n",
       "std       12.440732\n",
       "min       16.000000\n",
       "25%       23.000000\n",
       "50%       30.000000\n",
       "75%       40.000000\n",
       "max       80.000000\n",
       "Name: age, dtype: float64"
      ]
     },
     "execution_count": 62,
     "metadata": {},
     "output_type": "execute_result"
    }
   ],
   "source": [
    "df_adult.age.describe()"
   ]
  },
  {
   "cell_type": "code",
   "execution_count": 76,
   "id": "067f8b36",
   "metadata": {},
   "outputs": [
    {
     "data": {
      "image/png": "[encoded data removed]",
      "text/plain": [
       "<Figure size 432x288 with 1 Axes>"
      ]
     },
     "metadata": {
      "needs_background": "light"
     },
     "output_type": "display_data"
    }
   ],
   "source": [
    "sns.histplot(data=df_adult, x=\"age\", bins=13, label=\"passenger\")\n",
    "plt.title(\"adult age distribution\")\n",
    "plt.legend()\n",
    "plt.grid()\n",
    "plt.show()"
   ]
  },
  {
   "cell_type": "markdown",
   "id": "f11eb76f",
   "metadata": {},
   "source": [
    "'age'と'pclass'の関係"
   ]
  },
  {
   "cell_type": "code",
   "execution_count": 77,
   "id": "1be5b710",
   "metadata": {},
   "outputs": [
    {
     "data": {
      "text/html": [
       "<div>\n",
       "<style scoped>\n",
       "    .dataframe tbody tr th:only-of-type {\n",
       "        vertical-align: middle;\n",
       "    }\n",
       "\n",
       "    .dataframe tbody tr th {\n",
       "        vertical-align: top;\n",
       "    }\n",
       "\n",
       "    .dataframe thead th {\n",
       "        text-align: right;\n",
       "    }\n",
       "</style>\n",
       "<table border=\"1\" class=\"dataframe\">\n",
       "  <thead>\n",
       "    <tr style=\"text-align: right;\">\n",
       "      <th></th>\n",
       "      <th>count</th>\n",
       "      <th>mean</th>\n",
       "      <th>std</th>\n",
       "      <th>min</th>\n",
       "      <th>25%</th>\n",
       "      <th>50%</th>\n",
       "      <th>75%</th>\n",
       "      <th>max</th>\n",
       "    </tr>\n",
       "    <tr>\n",
       "      <th>pclass</th>\n",
       "      <th></th>\n",
       "      <th></th>\n",
       "      <th></th>\n",
       "      <th></th>\n",
       "      <th></th>\n",
       "      <th></th>\n",
       "      <th></th>\n",
       "      <th></th>\n",
       "    </tr>\n",
       "  </thead>\n",
       "  <tbody>\n",
       "    <tr>\n",
       "      <th>1</th>\n",
       "      <td>186.0</td>\n",
       "      <td>38.233441</td>\n",
       "      <td>14.802856</td>\n",
       "      <td>0.92</td>\n",
       "      <td>27.0</td>\n",
       "      <td>37.0</td>\n",
       "      <td>49.0</td>\n",
       "      <td>80.0</td>\n",
       "    </tr>\n",
       "    <tr>\n",
       "      <th>2</th>\n",
       "      <td>173.0</td>\n",
       "      <td>29.877630</td>\n",
       "      <td>14.001077</td>\n",
       "      <td>0.67</td>\n",
       "      <td>23.0</td>\n",
       "      <td>29.0</td>\n",
       "      <td>36.0</td>\n",
       "      <td>70.0</td>\n",
       "    </tr>\n",
       "    <tr>\n",
       "      <th>3</th>\n",
       "      <td>355.0</td>\n",
       "      <td>25.140620</td>\n",
       "      <td>12.495398</td>\n",
       "      <td>0.42</td>\n",
       "      <td>18.0</td>\n",
       "      <td>24.0</td>\n",
       "      <td>32.0</td>\n",
       "      <td>74.0</td>\n",
       "    </tr>\n",
       "  </tbody>\n",
       "</table>\n",
       "</div>"
      ],
      "text/plain": [
       "        count       mean        std   min   25%   50%   75%   max\n",
       "pclass                                                           \n",
       "1       186.0  38.233441  14.802856  0.92  27.0  37.0  49.0  80.0\n",
       "2       173.0  29.877630  14.001077  0.67  23.0  29.0  36.0  70.0\n",
       "3       355.0  25.140620  12.495398  0.42  18.0  24.0  32.0  74.0"
      ]
     },
     "execution_count": 77,
     "metadata": {},
     "output_type": "execute_result"
    }
   ],
   "source": [
    "df.groupby(\"pclass\").age.describe()"
   ]
  },
  {
   "cell_type": "code",
   "execution_count": 89,
   "id": "ee5c4424",
   "metadata": {},
   "outputs": [
    {
     "data": {
      "image/png": "[encoded data removed]",
      "text/plain": [
       "<Figure size 1200x500 with 1 Axes>"
      ]
     },
     "metadata": {
      "needs_background": "light"
     },
     "output_type": "display_data"
    }
   ],
   "source": [
    "plt.figure(figsize=(12, 5), dpi=100)\n",
    "sns.histplot(data=df_adult, x=\"age\", bins=13, hue=\"pclass\", \n",
    "             palette='Set1', multiple=\"dodge\", shrink=0.8)\n",
    "\n",
    "plt.title(\"adult age distribution\")\n",
    "plt.show()"
   ]
  },
  {
   "cell_type": "code",
   "execution_count": 91,
   "id": "1899d5b9",
   "metadata": {},
   "outputs": [
    {
     "data": {
      "image/png": "[encoded data removed]",
      "text/plain": [
       "<Figure size 504x288 with 2 Axes>"
      ]
     },
     "metadata": {
      "needs_background": "light"
     },
     "output_type": "display_data"
    }
   ],
   "source": [
    "fig, ax = plt.subplots(2, 1, figsize=(7, 4), tight_layout=True, sharex=True)\n",
    "sns.histplot(data=df_adult, x=\"age\", bins=13, hue=\"pclass\", \n",
    "             palette='Set1', multiple=\"dodge\", shrink=0.8, ax=ax[0])\n",
    "sns.histplot(data=df_adult, x=\"age\", bins=13, hue=\"pclass\", \n",
    "             palette='Set2', multiple=\"fill\", shrink=0.9, ax=ax[1])\n",
    "\n",
    "plt.show()"
   ]
  },
  {
   "cell_type": "code",
   "execution_count": 94,
   "id": "e84fb0ec",
   "metadata": {},
   "outputs": [],
   "source": [
    "# 若いほどpclassが3, 年を取るほど1に近づく"
   ]
  },
  {
   "cell_type": "markdown",
   "id": "3abaec10",
   "metadata": {},
   "source": [
    "'age'と'sex'の関係"
   ]
  },
  {
   "cell_type": "code",
   "execution_count": 92,
   "id": "e9fe55c6",
   "metadata": {},
   "outputs": [
    {
     "data": {
      "image/png": "[encoded data removed]",
      "text/plain": [
       "<Figure size 1200x500 with 1 Axes>"
      ]
     },
     "metadata": {
      "needs_background": "light"
     },
     "output_type": "display_data"
    }
   ],
   "source": [
    "plt.figure(figsize=(12, 5), dpi=100)\n",
    "sns.histplot(data=df_adult, x=\"age\", bins=13, hue=\"sex\", \n",
    "             palette='Set1', multiple=\"dodge\", shrink=0.8)\n",
    "\n",
    "plt.title(\"adult age distribution\")\n",
    "plt.show()"
   ]
  },
  {
   "cell_type": "code",
   "execution_count": 93,
   "id": "2c765e9e",
   "metadata": {},
   "outputs": [],
   "source": [
    "# 傾向はなさそう"
   ]
  },
  {
   "cell_type": "markdown",
   "id": "6d0824a0",
   "metadata": {},
   "source": [
    "相関関係"
   ]
  },
  {
   "cell_type": "code",
   "execution_count": 98,
   "id": "9d7b9906",
   "metadata": {},
   "outputs": [
    {
     "data": {
      "text/html": [
       "<div>\n",
       "<style scoped>\n",
       "    .dataframe tbody tr th:only-of-type {\n",
       "        vertical-align: middle;\n",
       "    }\n",
       "\n",
       "    .dataframe tbody tr th {\n",
       "        vertical-align: top;\n",
       "    }\n",
       "\n",
       "    .dataframe thead th {\n",
       "        text-align: right;\n",
       "    }\n",
       "</style>\n",
       "<table border=\"1\" class=\"dataframe\">\n",
       "  <thead>\n",
       "    <tr style=\"text-align: right;\">\n",
       "      <th></th>\n",
       "      <th>survived</th>\n",
       "      <th>pclass</th>\n",
       "      <th>age</th>\n",
       "      <th>sibsp</th>\n",
       "      <th>parch</th>\n",
       "      <th>fare</th>\n",
       "    </tr>\n",
       "  </thead>\n",
       "  <tbody>\n",
       "    <tr>\n",
       "      <th>survived</th>\n",
       "      <td>1.000000</td>\n",
       "      <td>-0.390467</td>\n",
       "      <td>0.010352</td>\n",
       "      <td>0.088154</td>\n",
       "      <td>0.074216</td>\n",
       "      <td>0.296918</td>\n",
       "    </tr>\n",
       "    <tr>\n",
       "      <th>pclass</th>\n",
       "      <td>-0.390467</td>\n",
       "      <td>1.000000</td>\n",
       "      <td>-0.355523</td>\n",
       "      <td>-0.111805</td>\n",
       "      <td>-0.024458</td>\n",
       "      <td>-0.552295</td>\n",
       "    </tr>\n",
       "    <tr>\n",
       "      <th>age</th>\n",
       "      <td>0.010352</td>\n",
       "      <td>-0.355523</td>\n",
       "      <td>1.000000</td>\n",
       "      <td>-0.050841</td>\n",
       "      <td>0.037404</td>\n",
       "      <td>0.110403</td>\n",
       "    </tr>\n",
       "    <tr>\n",
       "      <th>sibsp</th>\n",
       "      <td>0.088154</td>\n",
       "      <td>-0.111805</td>\n",
       "      <td>-0.050841</td>\n",
       "      <td>1.000000</td>\n",
       "      <td>0.280791</td>\n",
       "      <td>0.221493</td>\n",
       "    </tr>\n",
       "    <tr>\n",
       "      <th>parch</th>\n",
       "      <td>0.074216</td>\n",
       "      <td>-0.024458</td>\n",
       "      <td>0.037404</td>\n",
       "      <td>0.280791</td>\n",
       "      <td>1.000000</td>\n",
       "      <td>0.217429</td>\n",
       "    </tr>\n",
       "    <tr>\n",
       "      <th>fare</th>\n",
       "      <td>0.296918</td>\n",
       "      <td>-0.552295</td>\n",
       "      <td>0.110403</td>\n",
       "      <td>0.221493</td>\n",
       "      <td>0.217429</td>\n",
       "      <td>1.000000</td>\n",
       "    </tr>\n",
       "  </tbody>\n",
       "</table>\n",
       "</div>"
      ],
      "text/plain": [
       "          survived    pclass       age     sibsp     parch      fare\n",
       "survived  1.000000 -0.390467  0.010352  0.088154  0.074216  0.296918\n",
       "pclass   -0.390467  1.000000 -0.355523 -0.111805 -0.024458 -0.552295\n",
       "age       0.010352 -0.355523  1.000000 -0.050841  0.037404  0.110403\n",
       "sibsp     0.088154 -0.111805 -0.050841  1.000000  0.280791  0.221493\n",
       "parch     0.074216 -0.024458  0.037404  0.280791  1.000000  0.217429\n",
       "fare      0.296918 -0.552295  0.110403  0.221493  0.217429  1.000000"
      ]
     },
     "execution_count": 98,
     "metadata": {},
     "output_type": "execute_result"
    }
   ],
   "source": [
    "df_adult.loc[:, [\"survived\", \"pclass\", \"age\", \"sibsp\", \"parch\", \"fare\"]].corr()"
   ]
  },
  {
   "cell_type": "code",
   "execution_count": 99,
   "id": "ddb39afe",
   "metadata": {},
   "outputs": [
    {
     "data": {
      "image/png": "[encoded data removed]",
      "text/plain": [
       "<Figure size 576x432 with 2 Axes>"
      ]
     },
     "metadata": {
      "needs_background": "light"
     },
     "output_type": "display_data"
    }
   ],
   "source": [
    "plt.figure(figsize=(8, 6))\n",
    "sns.heatmap(df_adult.loc[:, [\"survived\", \"pclass\", \"age\", \"sibsp\", \"parch\", \"fare\"]].corr(),\n",
    "            annot=True, cmap=\"coolwarm\")\n",
    "plt.show()"
   ]
  },
  {
   "cell_type": "markdown",
   "id": "10afe66b",
   "metadata": {},
   "source": [
    "個別の予測は困難であり、Seabornの学習がメインのため、レコードをすべて削除する"
   ]
  },
  {
   "cell_type": "code",
   "execution_count": 101,
   "id": "68cbcd06",
   "metadata": {},
   "outputs": [],
   "source": [
    "df.dropna(axis=0, inplace=True)"
   ]
  },
  {
   "cell_type": "code",
   "execution_count": 102,
   "id": "61acc161",
   "metadata": {},
   "outputs": [
    {
     "data": {
      "text/plain": [
       "(714, 9)"
      ]
     },
     "execution_count": 102,
     "metadata": {},
     "output_type": "execute_result"
    }
   ],
   "source": [
    "df.shape"
   ]
  },
  {
   "cell_type": "code",
   "execution_count": 104,
   "id": "b3839a21",
   "metadata": {},
   "outputs": [
    {
     "data": {
      "text/plain": [
       "0"
      ]
     },
     "execution_count": 104,
     "metadata": {},
     "output_type": "execute_result"
    }
   ],
   "source": [
    "df.isnull().sum().sum()"
   ]
  },
  {
   "cell_type": "markdown",
   "id": "37b86c84",
   "metadata": {},
   "source": [
    "CSVファイルとして保存する"
   ]
  },
  {
   "cell_type": "code",
   "execution_count": 105,
   "id": "fac92b66",
   "metadata": {},
   "outputs": [],
   "source": [
    "df.to_csv(\"./data/titanic_non_null.csv\", index=False)"
   ]
  },
  {
   "cell_type": "markdown",
   "id": "ba627da6",
   "metadata": {},
   "source": [
    "---\n",
    "<a id=4></a>\n",
    "[Topへ](#0)\n",
    "\n",
    "---\n",
    "## 4. カテゴリカルプロット"
   ]
  },
  {
   "cell_type": "markdown",
   "id": "22451491",
   "metadata": {},
   "source": [
    "* キャットプロットとストリッププロット\n",
    " * **sns.catplot()**\n",
    "    <p>\n",
    "        <a href=\"https://seaborn.pydata.org/generated/seaborn.catplot.html\" target=\"_blank\" rel=\"noreferrer noopener\">\n",
    "            Seaborn.catplot のページへ\n",
    "        </a>\n",
    "    </p>\n",
    "    \n",
    "\n",
    "* カウントプロット\n",
    "    * **sns.countplot()**\n",
    "    <p>\n",
    "        <a href=\"https://seaborn.pydata.org/generated/seaborn.countplot.html\" target=\"_blank\" rel=\"noreferrer noopener\">\n",
    "            Seaborn.countplot のページへ\n",
    "        </a>\n",
    "    </p>\n",
    "\n",
    "\n",
    "* バープロット\n",
    " * **sns.barplot()**\n",
    "    <p>\n",
    "        <a href=\"https://seaborn.pydata.org/generated/seaborn.barplot.html\" target=\"_blank\" rel=\"noreferrer noopener\">\n",
    "            Seaborn.barplot のページへ\n",
    "        </a>\n",
    "    </p>\n",
    "\n",
    "\n",
    "* ボックスプロット\n",
    " * **sns.boxplot()**\n",
    "    <p>\n",
    "        <a href=\"https://seaborn.pydata.org/generated/seaborn.boxplot.html\" target=\"_blank\" rel=\"noreferrer noopener\">\n",
    "            Seaborn.boxplot のページへ\n",
    "        </a>\n",
    "    </p>\n",
    "    \n",
    "\n",
    "* バイオリンプロット\n",
    " * **sns.violinplot()**\n",
    "    <p>\n",
    "        <a href=\"https://seaborn.pydata.org/generated/seaborn.violinplot.html\" target=\"_blank\" rel=\"noreferrer noopener\">\n",
    "            Seaborn.violinplot のページへ\n",
    "        </a>\n",
    "    </p>\n",
    "    \n",
    "    \n",
    "* スウォームプロット\n",
    " * **sns.swarmplot()**\n",
    "    <p>\n",
    "        <a href=\"https://seaborn.pydata.org/generated/seaborn.swarmplot.html\" target=\"_blank\" rel=\"noreferrer noopener\">\n",
    "            Seaborn.swarmplot のページへ\n",
    "        </a>\n",
    "    </p>\n",
    "    \n",
    "\n",
    "\n",
    "---"
   ]
  },
  {
   "cell_type": "markdown",
   "id": "e40c82d3",
   "metadata": {},
   "source": [
    "キャットプロットとストリッププロット"
   ]
  },
  {
   "cell_type": "code",
   "execution_count": null,
   "id": "a32a9a48",
   "metadata": {},
   "outputs": [],
   "source": []
  },
  {
   "cell_type": "markdown",
   "id": "67b4bac4",
   "metadata": {},
   "source": [
    "カウントプロット"
   ]
  },
  {
   "cell_type": "code",
   "execution_count": null,
   "id": "a6081ed9",
   "metadata": {},
   "outputs": [],
   "source": []
  },
  {
   "cell_type": "markdown",
   "id": "9b4180b8",
   "metadata": {},
   "source": [
    "バープロット"
   ]
  },
  {
   "cell_type": "code",
   "execution_count": null,
   "id": "bae163c3",
   "metadata": {},
   "outputs": [],
   "source": []
  },
  {
   "cell_type": "markdown",
   "id": "70893b90",
   "metadata": {},
   "source": [
    "ボックスプロット"
   ]
  },
  {
   "cell_type": "code",
   "execution_count": null,
   "id": "74a342b2",
   "metadata": {},
   "outputs": [],
   "source": []
  },
  {
   "cell_type": "markdown",
   "id": "91220b46",
   "metadata": {},
   "source": [
    "バイオリンプロット"
   ]
  },
  {
   "cell_type": "code",
   "execution_count": null,
   "id": "574a9653",
   "metadata": {},
   "outputs": [],
   "source": []
  },
  {
   "cell_type": "markdown",
   "id": "dd720504",
   "metadata": {},
   "source": [
    "スウォームプロット"
   ]
  },
  {
   "cell_type": "code",
   "execution_count": null,
   "id": "a9fbe372",
   "metadata": {},
   "outputs": [],
   "source": []
  },
  {
   "cell_type": "markdown",
   "id": "f0d952ab",
   "metadata": {},
   "source": [
    "---\n",
    " <a id=4></a>\n",
    "[Topへ](#0)\n",
    "\n",
    "---\n",
    "## 以上\n",
    "    \n",
    "---"
   ]
  },
  {
   "cell_type": "code",
   "execution_count": null,
   "id": "af56fa32",
   "metadata": {},
   "outputs": [],
   "source": []
  }
 ],
 "metadata": {
  "kernelspec": {
   "display_name": "Python 3",
   "language": "python",
   "name": "python3"
  },
  "language_info": {
   "codemirror_mode": {
    "name": "ipython",
    "version": 3
   },
   "file_extension": ".py",
   "mimetype": "text/x-python",
   "name": "python",
   "nbconvert_exporter": "python",
   "pygments_lexer": "ipython3",
   "version": "3.10.11"
  }
 },
 "nbformat": 4,
 "nbformat_minor": 5
}
