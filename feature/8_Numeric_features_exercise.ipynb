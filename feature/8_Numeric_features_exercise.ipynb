{
 "cells": [
  {
   "cell_type": "markdown",
   "id": "40d9c665",
   "metadata": {},
   "source": [
    "---\n",
    "#  8.Numerical Features Exercise\n",
    "---"
   ]
  },
  {
   "cell_type": "code",
   "execution_count": 1,
   "id": "2fe04f33",
   "metadata": {},
   "outputs": [],
   "source": [
    "import numpy as np\n",
    "import pandas as pd\n",
    "import matplotlib.pyplot as plt\n",
    "import seaborn as sns\n",
    "sns.set_theme(context='talk', style='darkgrid', font='MS GOTHIC')"
   ]
  },
  {
   "cell_type": "markdown",
   "id": "7c624520",
   "metadata": {},
   "source": [
    "Exercise_1 : 3つのスケーラー（MaxAbsScalerを除く）をインポートしてください"
   ]
  },
  {
   "cell_type": "code",
   "execution_count": 2,
   "id": "3ee14538",
   "metadata": {},
   "outputs": [],
   "source": [
    "from sklearn.preprocessing import StandardScaler\n",
    "from sklearn.preprocessing import MinMaxScaler\n",
    "from sklearn.preprocessing import RobustScaler"
   ]
  },
  {
   "cell_type": "markdown",
   "id": "e96f298e",
   "metadata": {},
   "source": [
    "<details>\n",
    "    <summary><font color='red'>解答はここをクリック</font></summary>\n",
    "    <code>from sklearn.preprocessing import StandardScaler</code><br>\n",
    "    <code>from sklearn.preprocessing import MinMaxScaler</code><br>\n",
    "    <code>from sklearn.preprocessing import RobustScaler</code><br>\n",
    "</details>"
   ]
  },
  {
   "cell_type": "markdown",
   "id": "28d6b528",
   "metadata": {},
   "source": [
    "Exercise_2 : それぞれをインスタンス化してください"
   ]
  },
  {
   "cell_type": "code",
   "execution_count": 3,
   "id": "75eec315",
   "metadata": {},
   "outputs": [],
   "source": [
    "st_scaler = StandardScaler()\n",
    "mm_scaler = MinMaxScaler()\n",
    "ro_scaler = RobustScaler()"
   ]
  },
  {
   "cell_type": "markdown",
   "id": "fe7787dc",
   "metadata": {},
   "source": [
    "<details>\n",
    "    <summary><font color='red'>解答はここをクリック</font></summary>\n",
    "    <code>st_scaler = StandardScaler()</code><br>\n",
    "    <code>mm_scaler = MinMaxScaler()</code><br>\n",
    "    <code>ro_scaler = RobustScaler()</code><br>\n",
    "</details>"
   ]
  },
  {
   "cell_type": "code",
   "execution_count": 4,
   "id": "db985eb3",
   "metadata": {},
   "outputs": [
    {
     "data": {
      "text/plain": [
       "(-106.0, 74.0)"
      ]
     },
     "execution_count": 4,
     "metadata": {},
     "output_type": "execute_result"
    }
   ],
   "source": [
    "# 実行して表示\n",
    "# 外れ値を持つデータの作成\n",
    "np.random.seed(17)\n",
    "x1 = np.random.randn(100) * 10   # 標準偏差10、平均0\n",
    "x2 = np.random.randint(-100, 100, 10)   # 10個の整数\n",
    "X = np.concatenate([x1, x2]) - 10   # 全体を-10ずらす\n",
    "X.min(), X.max()"
   ]
  },
  {
   "cell_type": "markdown",
   "id": "4d1f6bf7",
   "metadata": {},
   "source": [
    "Exercise_3 : Xの分布をヒストプロットで表示してください"
   ]
  },
  {
   "cell_type": "code",
   "execution_count": 6,
   "id": "de54a1b2",
   "metadata": {
    "scrolled": true
   },
   "outputs": [
    {
     "data": {
      "image/png": "[encoded data removed]",
      "text/plain": [
       "<Figure size 432x288 with 1 Axes>"
      ]
     },
     "metadata": {
      "needs_background": "light"
     },
     "output_type": "display_data"
    }
   ],
   "source": [
    "sns.histplot(X)\n",
    "plt.show()"
   ]
  },
  {
   "cell_type": "markdown",
   "id": "1f4ddc3c",
   "metadata": {},
   "source": [
    "<details>\n",
    "    <summary><font color='red'>解答はここをクリック</font></summary>\n",
    "    <code>sns.histplot(X)</code><br>\n",
    "</details>"
   ]
  },
  {
   "cell_type": "markdown",
   "id": "b2c30d92",
   "metadata": {},
   "source": [
    "Exercise_4 : 以下を実行し、ERRORの最終行を参考にして、Xをスケーラーのパラメーターに適した形状に変更してください(X_reshaped)"
   ]
  },
  {
   "cell_type": "code",
   "execution_count": 9,
   "id": "b65c6162",
   "metadata": {
    "scrolled": true
   },
   "outputs": [
    {
     "ename": "ValueError",
     "evalue": "Expected 2D array, got 1D array instead:\narray=[-7.23734110e+00 -2.85462808e+01 -3.76098889e+00  1.45311290e+00\n  3.71904682e-01  8.86638930e+00 -1.11169829e+01 -1.36210134e+01\n -8.51324955e+00 -1.43778315e+01  1.17125700e+01  1.52310251e+00\n -2.81881234e+01 -1.13804934e+01 -4.60160386e+00 -2.77528229e+01\n  3.14876536e+00 -1.47344805e+01 -2.09222990e+01 -1.25002744e+01\n -1.98229430e+01  3.12690925e-01 -5.08666224e+00 -1.44664660e+01\n -1.80636008e+01 -8.68732242e+00 -2.21256024e+01 -8.40009147e+00\n -1.75522304e+01 -6.50104008e+00 -2.24582357e-01 -1.13858525e+01\n -8.96143695e+00 -6.99408964e+00 -3.17947044e-01 -1.30376158e+00\n -4.32216911e+00 -5.34717656e+00 -2.16537308e+01 -3.03599479e+01\n -2.15541329e+01  2.34515739e+01 -8.73272789e+00 -1.69417890e+01\n -4.42325569e+00 -9.00853400e+00 -3.62073826e+00 -2.96889319e+00\n -1.91609315e+01 -1.78601423e+01  1.19181796e+00 -1.98339611e+01\n -7.55479979e+00 -1.58140974e+01 -5.70436098e+00 -2.01598012e+00\n -1.61007005e+01  1.85404207e+00 -1.71083401e+01 -1.78112893e+01\n -1.23037298e+01 -8.79804917e+00 -1.78846984e+01 -3.96012262e+01\n -1.79558112e+01 -7.15417750e+00 -4.77462718e+00 -9.16445556e+00\n  1.72079559e+01 -3.88992117e+00 -1.83594400e+01 -1.00369604e+01\n -6.06905320e+00 -3.15504916e+00 -2.24798317e+00 -4.43997114e+00\n -1.54097990e+01  5.24417248e+00  2.08385131e+00 -9.48722716e+00\n -1.42663121e+01 -1.92059772e+00 -9.42720238e+00 -2.04017157e+01\n -6.58519143e-01 -1.12003454e+01  1.20701631e+01 -4.39993078e+01\n  2.33528896e+00 -1.58788084e+01 -1.97693692e+01 -5.31929700e+00\n  1.87112692e+01 -2.20808568e+01  3.60318015e-02  1.30726446e+00\n -4.39960308e+00 -1.61839730e+01 -1.22479872e+01  1.21590145e+01\n  7.00000000e+01  1.30000000e+01 -1.06000000e+02  6.50000000e+01\n -7.60000000e+01 -2.30000000e+01  7.40000000e+01 -8.60000000e+01\n -5.90000000e+01 -3.60000000e+01].\nReshape your data either using array.reshape(-1, 1) if your data has a single feature or array.reshape(1, -1) if it contains a single sample.",
     "output_type": "error",
     "traceback": [
      "\u001b[1;31m---------------------------------------------------------------------------\u001b[0m",
      "\u001b[1;31mValueError\u001b[0m                                Traceback (most recent call last)",
      "\u001b[1;32mc:\\Users\\arata\\OneDrive\\ドキュメント\\GitHub\\DataScience\\feature\\8_Numeric_features_exercise.ipynb セル 14\u001b[0m in \u001b[0;36m<cell line: 2>\u001b[1;34m()\u001b[0m\n\u001b[0;32m      <a href='vscode-notebook-cell:/c%3A/Users/arata/OneDrive/%E3%83%89%E3%82%AD%E3%83%A5%E3%83%A1%E3%83%B3%E3%83%88/GitHub/DataScience/feature/8_Numeric_features_exercise.ipynb#X16sZmlsZQ%3D%3D?line=0'>1</a>\u001b[0m \u001b[39m# 実行して表示\u001b[39;00m\n\u001b[1;32m----> <a href='vscode-notebook-cell:/c%3A/Users/arata/OneDrive/%E3%83%89%E3%82%AD%E3%83%A5%E3%83%A1%E3%83%B3%E3%83%88/GitHub/DataScience/feature/8_Numeric_features_exercise.ipynb#X16sZmlsZQ%3D%3D?line=1'>2</a>\u001b[0m X_st \u001b[39m=\u001b[39m st_scaler\u001b[39m.\u001b[39;49mfit_transform(X)\n",
      "File \u001b[1;32m~\\AppData\\Local\\Packages\\PythonSoftwareFoundation.Python.3.10_qbz5n2kfra8p0\\LocalCache\\local-packages\\Python310\\site-packages\\sklearn\\utils\\_set_output.py:140\u001b[0m, in \u001b[0;36m_wrap_method_output.<locals>.wrapped\u001b[1;34m(self, X, *args, **kwargs)\u001b[0m\n\u001b[0;32m    138\u001b[0m \u001b[39m@wraps\u001b[39m(f)\n\u001b[0;32m    139\u001b[0m \u001b[39mdef\u001b[39;00m \u001b[39mwrapped\u001b[39m(\u001b[39mself\u001b[39m, X, \u001b[39m*\u001b[39margs, \u001b[39m*\u001b[39m\u001b[39m*\u001b[39mkwargs):\n\u001b[1;32m--> 140\u001b[0m     data_to_wrap \u001b[39m=\u001b[39m f(\u001b[39mself\u001b[39m, X, \u001b[39m*\u001b[39margs, \u001b[39m*\u001b[39m\u001b[39m*\u001b[39mkwargs)\n\u001b[0;32m    141\u001b[0m     \u001b[39mif\u001b[39;00m \u001b[39misinstance\u001b[39m(data_to_wrap, \u001b[39mtuple\u001b[39m):\n\u001b[0;32m    142\u001b[0m         \u001b[39m# only wrap the first output for cross decomposition\u001b[39;00m\n\u001b[0;32m    143\u001b[0m         \u001b[39mreturn\u001b[39;00m (\n\u001b[0;32m    144\u001b[0m             _wrap_data_with_container(method, data_to_wrap[\u001b[39m0\u001b[39m], X, \u001b[39mself\u001b[39m),\n\u001b[0;32m    145\u001b[0m             \u001b[39m*\u001b[39mdata_to_wrap[\u001b[39m1\u001b[39m:],\n\u001b[0;32m    146\u001b[0m         )\n",
      "File \u001b[1;32m~\\AppData\\Local\\Packages\\PythonSoftwareFoundation.Python.3.10_qbz5n2kfra8p0\\LocalCache\\local-packages\\Python310\\site-packages\\sklearn\\base.py:878\u001b[0m, in \u001b[0;36mTransformerMixin.fit_transform\u001b[1;34m(self, X, y, **fit_params)\u001b[0m\n\u001b[0;32m    874\u001b[0m \u001b[39m# non-optimized default implementation; override when a better\u001b[39;00m\n\u001b[0;32m    875\u001b[0m \u001b[39m# method is possible for a given clustering algorithm\u001b[39;00m\n\u001b[0;32m    876\u001b[0m \u001b[39mif\u001b[39;00m y \u001b[39mis\u001b[39;00m \u001b[39mNone\u001b[39;00m:\n\u001b[0;32m    877\u001b[0m     \u001b[39m# fit method of arity 1 (unsupervised transformation)\u001b[39;00m\n\u001b[1;32m--> 878\u001b[0m     \u001b[39mreturn\u001b[39;00m \u001b[39mself\u001b[39m\u001b[39m.\u001b[39mfit(X, \u001b[39m*\u001b[39m\u001b[39m*\u001b[39mfit_params)\u001b[39m.\u001b[39mtransform(X)\n\u001b[0;32m    879\u001b[0m \u001b[39melse\u001b[39;00m:\n\u001b[0;32m    880\u001b[0m     \u001b[39m# fit method of arity 2 (supervised transformation)\u001b[39;00m\n\u001b[0;32m    881\u001b[0m     \u001b[39mreturn\u001b[39;00m \u001b[39mself\u001b[39m\u001b[39m.\u001b[39mfit(X, y, \u001b[39m*\u001b[39m\u001b[39m*\u001b[39mfit_params)\u001b[39m.\u001b[39mtransform(X)\n",
      "File \u001b[1;32m~\\AppData\\Local\\Packages\\PythonSoftwareFoundation.Python.3.10_qbz5n2kfra8p0\\LocalCache\\local-packages\\Python310\\site-packages\\sklearn\\preprocessing\\_data.py:824\u001b[0m, in \u001b[0;36mStandardScaler.fit\u001b[1;34m(self, X, y, sample_weight)\u001b[0m\n\u001b[0;32m    822\u001b[0m \u001b[39m# Reset internal state before fitting\u001b[39;00m\n\u001b[0;32m    823\u001b[0m \u001b[39mself\u001b[39m\u001b[39m.\u001b[39m_reset()\n\u001b[1;32m--> 824\u001b[0m \u001b[39mreturn\u001b[39;00m \u001b[39mself\u001b[39;49m\u001b[39m.\u001b[39;49mpartial_fit(X, y, sample_weight)\n",
      "File \u001b[1;32m~\\AppData\\Local\\Packages\\PythonSoftwareFoundation.Python.3.10_qbz5n2kfra8p0\\LocalCache\\local-packages\\Python310\\site-packages\\sklearn\\preprocessing\\_data.py:861\u001b[0m, in \u001b[0;36mStandardScaler.partial_fit\u001b[1;34m(self, X, y, sample_weight)\u001b[0m\n\u001b[0;32m    858\u001b[0m \u001b[39mself\u001b[39m\u001b[39m.\u001b[39m_validate_params()\n\u001b[0;32m    860\u001b[0m first_call \u001b[39m=\u001b[39m \u001b[39mnot\u001b[39;00m \u001b[39mhasattr\u001b[39m(\u001b[39mself\u001b[39m, \u001b[39m\"\u001b[39m\u001b[39mn_samples_seen_\u001b[39m\u001b[39m\"\u001b[39m)\n\u001b[1;32m--> 861\u001b[0m X \u001b[39m=\u001b[39m \u001b[39mself\u001b[39;49m\u001b[39m.\u001b[39;49m_validate_data(\n\u001b[0;32m    862\u001b[0m     X,\n\u001b[0;32m    863\u001b[0m     accept_sparse\u001b[39m=\u001b[39;49m(\u001b[39m\"\u001b[39;49m\u001b[39mcsr\u001b[39;49m\u001b[39m\"\u001b[39;49m, \u001b[39m\"\u001b[39;49m\u001b[39mcsc\u001b[39;49m\u001b[39m\"\u001b[39;49m),\n\u001b[0;32m    864\u001b[0m     dtype\u001b[39m=\u001b[39;49mFLOAT_DTYPES,\n\u001b[0;32m    865\u001b[0m     force_all_finite\u001b[39m=\u001b[39;49m\u001b[39m\"\u001b[39;49m\u001b[39mallow-nan\u001b[39;49m\u001b[39m\"\u001b[39;49m,\n\u001b[0;32m    866\u001b[0m     reset\u001b[39m=\u001b[39;49mfirst_call,\n\u001b[0;32m    867\u001b[0m )\n\u001b[0;32m    868\u001b[0m n_features \u001b[39m=\u001b[39m X\u001b[39m.\u001b[39mshape[\u001b[39m1\u001b[39m]\n\u001b[0;32m    870\u001b[0m \u001b[39mif\u001b[39;00m sample_weight \u001b[39mis\u001b[39;00m \u001b[39mnot\u001b[39;00m \u001b[39mNone\u001b[39;00m:\n",
      "File \u001b[1;32m~\\AppData\\Local\\Packages\\PythonSoftwareFoundation.Python.3.10_qbz5n2kfra8p0\\LocalCache\\local-packages\\Python310\\site-packages\\sklearn\\base.py:565\u001b[0m, in \u001b[0;36mBaseEstimator._validate_data\u001b[1;34m(self, X, y, reset, validate_separately, **check_params)\u001b[0m\n\u001b[0;32m    563\u001b[0m     \u001b[39mraise\u001b[39;00m \u001b[39mValueError\u001b[39;00m(\u001b[39m\"\u001b[39m\u001b[39mValidation should be done on X, y or both.\u001b[39m\u001b[39m\"\u001b[39m)\n\u001b[0;32m    564\u001b[0m \u001b[39melif\u001b[39;00m \u001b[39mnot\u001b[39;00m no_val_X \u001b[39mand\u001b[39;00m no_val_y:\n\u001b[1;32m--> 565\u001b[0m     X \u001b[39m=\u001b[39m check_array(X, input_name\u001b[39m=\u001b[39m\u001b[39m\"\u001b[39m\u001b[39mX\u001b[39m\u001b[39m\"\u001b[39m, \u001b[39m*\u001b[39m\u001b[39m*\u001b[39mcheck_params)\n\u001b[0;32m    566\u001b[0m     out \u001b[39m=\u001b[39m X\n\u001b[0;32m    567\u001b[0m \u001b[39melif\u001b[39;00m no_val_X \u001b[39mand\u001b[39;00m \u001b[39mnot\u001b[39;00m no_val_y:\n",
      "File \u001b[1;32m~\\AppData\\Local\\Packages\\PythonSoftwareFoundation.Python.3.10_qbz5n2kfra8p0\\LocalCache\\local-packages\\Python310\\site-packages\\sklearn\\utils\\validation.py:902\u001b[0m, in \u001b[0;36mcheck_array\u001b[1;34m(array, accept_sparse, accept_large_sparse, dtype, order, copy, force_all_finite, ensure_2d, allow_nd, ensure_min_samples, ensure_min_features, estimator, input_name)\u001b[0m\n\u001b[0;32m    900\u001b[0m     \u001b[39m# If input is 1D raise error\u001b[39;00m\n\u001b[0;32m    901\u001b[0m     \u001b[39mif\u001b[39;00m array\u001b[39m.\u001b[39mndim \u001b[39m==\u001b[39m \u001b[39m1\u001b[39m:\n\u001b[1;32m--> 902\u001b[0m         \u001b[39mraise\u001b[39;00m \u001b[39mValueError\u001b[39;00m(\n\u001b[0;32m    903\u001b[0m             \u001b[39m\"\u001b[39m\u001b[39mExpected 2D array, got 1D array instead:\u001b[39m\u001b[39m\\n\u001b[39;00m\u001b[39marray=\u001b[39m\u001b[39m{}\u001b[39;00m\u001b[39m.\u001b[39m\u001b[39m\\n\u001b[39;00m\u001b[39m\"\u001b[39m\n\u001b[0;32m    904\u001b[0m             \u001b[39m\"\u001b[39m\u001b[39mReshape your data either using array.reshape(-1, 1) if \u001b[39m\u001b[39m\"\u001b[39m\n\u001b[0;32m    905\u001b[0m             \u001b[39m\"\u001b[39m\u001b[39myour data has a single feature or array.reshape(1, -1) \u001b[39m\u001b[39m\"\u001b[39m\n\u001b[0;32m    906\u001b[0m             \u001b[39m\"\u001b[39m\u001b[39mif it contains a single sample.\u001b[39m\u001b[39m\"\u001b[39m\u001b[39m.\u001b[39mformat(array)\n\u001b[0;32m    907\u001b[0m         )\n\u001b[0;32m    909\u001b[0m \u001b[39mif\u001b[39;00m dtype_numeric \u001b[39mand\u001b[39;00m array\u001b[39m.\u001b[39mdtype\u001b[39m.\u001b[39mkind \u001b[39min\u001b[39;00m \u001b[39m\"\u001b[39m\u001b[39mUSV\u001b[39m\u001b[39m\"\u001b[39m:\n\u001b[0;32m    910\u001b[0m     \u001b[39mraise\u001b[39;00m \u001b[39mValueError\u001b[39;00m(\n\u001b[0;32m    911\u001b[0m         \u001b[39m\"\u001b[39m\u001b[39mdtype=\u001b[39m\u001b[39m'\u001b[39m\u001b[39mnumeric\u001b[39m\u001b[39m'\u001b[39m\u001b[39m is not compatible with arrays of bytes/strings.\u001b[39m\u001b[39m\"\u001b[39m\n\u001b[0;32m    912\u001b[0m         \u001b[39m\"\u001b[39m\u001b[39mConvert your data to numeric values explicitly instead.\u001b[39m\u001b[39m\"\u001b[39m\n\u001b[0;32m    913\u001b[0m     )\n",
      "\u001b[1;31mValueError\u001b[0m: Expected 2D array, got 1D array instead:\narray=[-7.23734110e+00 -2.85462808e+01 -3.76098889e+00  1.45311290e+00\n  3.71904682e-01  8.86638930e+00 -1.11169829e+01 -1.36210134e+01\n -8.51324955e+00 -1.43778315e+01  1.17125700e+01  1.52310251e+00\n -2.81881234e+01 -1.13804934e+01 -4.60160386e+00 -2.77528229e+01\n  3.14876536e+00 -1.47344805e+01 -2.09222990e+01 -1.25002744e+01\n -1.98229430e+01  3.12690925e-01 -5.08666224e+00 -1.44664660e+01\n -1.80636008e+01 -8.68732242e+00 -2.21256024e+01 -8.40009147e+00\n -1.75522304e+01 -6.50104008e+00 -2.24582357e-01 -1.13858525e+01\n -8.96143695e+00 -6.99408964e+00 -3.17947044e-01 -1.30376158e+00\n -4.32216911e+00 -5.34717656e+00 -2.16537308e+01 -3.03599479e+01\n -2.15541329e+01  2.34515739e+01 -8.73272789e+00 -1.69417890e+01\n -4.42325569e+00 -9.00853400e+00 -3.62073826e+00 -2.96889319e+00\n -1.91609315e+01 -1.78601423e+01  1.19181796e+00 -1.98339611e+01\n -7.55479979e+00 -1.58140974e+01 -5.70436098e+00 -2.01598012e+00\n -1.61007005e+01  1.85404207e+00 -1.71083401e+01 -1.78112893e+01\n -1.23037298e+01 -8.79804917e+00 -1.78846984e+01 -3.96012262e+01\n -1.79558112e+01 -7.15417750e+00 -4.77462718e+00 -9.16445556e+00\n  1.72079559e+01 -3.88992117e+00 -1.83594400e+01 -1.00369604e+01\n -6.06905320e+00 -3.15504916e+00 -2.24798317e+00 -4.43997114e+00\n -1.54097990e+01  5.24417248e+00  2.08385131e+00 -9.48722716e+00\n -1.42663121e+01 -1.92059772e+00 -9.42720238e+00 -2.04017157e+01\n -6.58519143e-01 -1.12003454e+01  1.20701631e+01 -4.39993078e+01\n  2.33528896e+00 -1.58788084e+01 -1.97693692e+01 -5.31929700e+00\n  1.87112692e+01 -2.20808568e+01  3.60318015e-02  1.30726446e+00\n -4.39960308e+00 -1.61839730e+01 -1.22479872e+01  1.21590145e+01\n  7.00000000e+01  1.30000000e+01 -1.06000000e+02  6.50000000e+01\n -7.60000000e+01 -2.30000000e+01  7.40000000e+01 -8.60000000e+01\n -5.90000000e+01 -3.60000000e+01].\nReshape your data either using array.reshape(-1, 1) if your data has a single feature or array.reshape(1, -1) if it contains a single sample."
     ]
    }
   ],
   "source": [
    "# 実行して表示\n",
    "X_st = st_scaler.fit_transform(X)"
   ]
  },
  {
   "cell_type": "code",
   "execution_count": 10,
   "id": "510af8da",
   "metadata": {},
   "outputs": [],
   "source": [
    "X_reshaped = X.reshape(-1, 1)"
   ]
  },
  {
   "cell_type": "markdown",
   "id": "4c18d35a",
   "metadata": {},
   "source": [
    "<details>\n",
    "    <summary><font color='red'>解答はここをクリック</font></summary>\n",
    "    <code>X_reshaped = X.reshape(-1, 1)</code><br>\n",
    "</details>"
   ]
  },
  {
   "cell_type": "code",
   "execution_count": 11,
   "id": "e5bdc0a7",
   "metadata": {},
   "outputs": [
    {
     "data": {
      "text/plain": [
       "array([[ -7.2373411 ],\n",
       "       [-28.54628079],\n",
       "       [ -3.76098889],\n",
       "       [  1.4531129 ],\n",
       "       [  0.37190468]])"
      ]
     },
     "execution_count": 11,
     "metadata": {},
     "output_type": "execute_result"
    }
   ],
   "source": [
    "# 実行して表示\n",
    "X_reshaped[:5]"
   ]
  },
  {
   "cell_type": "markdown",
   "id": "8f1ead72",
   "metadata": {},
   "source": [
    "Exercise_5 : st_scalerでX_reshapedのスケーリングを行ってください"
   ]
  },
  {
   "cell_type": "code",
   "execution_count": 13,
   "id": "35afa233",
   "metadata": {},
   "outputs": [],
   "source": [
    "X_st = st_scaler.fit_transform(X_reshaped)"
   ]
  },
  {
   "cell_type": "markdown",
   "id": "52233823",
   "metadata": {},
   "source": [
    "<details>\n",
    "    <summary><font color='red'>解答はここをクリック</font></summary>\n",
    "    <code>X_st = st_scaler.fit_transform(X_reshaped)</code><br>\n",
    "</details>"
   ]
  },
  {
   "cell_type": "code",
   "execution_count": 14,
   "id": "3c66c5f4",
   "metadata": {},
   "outputs": [
    {
     "data": {
      "text/plain": [
       "array([[ 0.10435842],\n",
       "       [-0.84974033],\n",
       "       [ 0.26001062],\n",
       "       [ 0.49346982],\n",
       "       [ 0.44505918]])"
      ]
     },
     "execution_count": 14,
     "metadata": {},
     "output_type": "execute_result"
    }
   ],
   "source": [
    "# 実行して表示\n",
    "X_st[:5]"
   ]
  },
  {
   "cell_type": "code",
   "execution_count": 15,
   "id": "50f65f4a",
   "metadata": {},
   "outputs": [
    {
     "data": {
      "text/plain": [
       "(1.0, -6.0557619525008536e-18)"
      ]
     },
     "execution_count": 15,
     "metadata": {},
     "output_type": "execute_result"
    }
   ],
   "source": [
    "# 実行して表示\n",
    "X_st.std(), X_st.mean()\n",
    "# ほぼ1、ほぼ0"
   ]
  },
  {
   "cell_type": "markdown",
   "id": "1a1ab977",
   "metadata": {},
   "source": [
    "Exercise_6: X_stを1次元に戻し、スケールされた値の分布をヒストプロットで確認してください"
   ]
  },
  {
   "cell_type": "code",
   "execution_count": 16,
   "id": "7d5a66df",
   "metadata": {},
   "outputs": [
    {
     "data": {
      "text/plain": [
       "2"
      ]
     },
     "execution_count": 16,
     "metadata": {},
     "output_type": "execute_result"
    }
   ],
   "source": [
    "# 実行して表示\n",
    "X_st.ndim"
   ]
  },
  {
   "cell_type": "code",
   "execution_count": 23,
   "id": "0fbca9e7",
   "metadata": {
    "scrolled": false
   },
   "outputs": [
    {
     "data": {
      "image/png": "[encoded data removed]",
      "text/plain": [
       "<Figure size 432x288 with 1 Axes>"
      ]
     },
     "metadata": {
      "needs_background": "light"
     },
     "output_type": "display_data"
    }
   ],
   "source": [
    "sns.histplot(X_st.flatten())\n",
    "plt.show()"
   ]
  },
  {
   "cell_type": "markdown",
   "id": "0e1e8260",
   "metadata": {},
   "source": [
    "<details>\n",
    "    <summary><font color='red'>解答はここをクリック</font></summary>\n",
    "    <code>sns.histplot(X_st.flatten())</code>\n",
    "</details>"
   ]
  },
  {
   "cell_type": "markdown",
   "id": "2662d827",
   "metadata": {},
   "source": [
    "Exercise_7: それぞれのスケーラーでXをスケーリングし、ヒストプロットで結果を表示してください"
   ]
  },
  {
   "cell_type": "code",
   "execution_count": 27,
   "id": "f1d2f909",
   "metadata": {
    "scrolled": false
   },
   "outputs": [
    {
     "data": {
      "image/png": "[encoded data removed]",
      "text/plain": [
       "<Figure size 1152x288 with 4 Axes>"
      ]
     },
     "metadata": {
      "needs_background": "light"
     },
     "output_type": "display_data"
    }
   ],
   "source": [
    "fig, axes = plt.subplots(1, 4, figsize=(16, 4), tight_layout=True)\n",
    "\n",
    "sns.histplot(x=X, kde=True, ax=axes[0])\n",
    "sns.histplot(x=st_scaler.fit_transform(X_reshaped).flatten()  , kde=True, ax=axes[1])   # x= 以降を埋める\n",
    "axes[1].set_title('Standerd')\n",
    "sns.histplot(x=mm_scaler.fit_transform(X_reshaped).flatten()  , kde=True, ax=axes[2])   # x= 以降を埋める\n",
    "axes[2].set_title('MinMax')\n",
    "sns.histplot(x=ro_scaler.fit_transform(X_reshaped).flatten()  , kde=True, ax=axes[3])   # x= 以降を埋める\n",
    "axes[3].set_title('Robust')\n",
    "plt.show()\n",
    "\n",
    "# binsの設定によりRobustScalerでスケーリングしたヒストプロットは多少形が異ってしまうことがあります。"
   ]
  },
  {
   "cell_type": "markdown",
   "id": "c8658cdc",
   "metadata": {},
   "source": [
    "<details>\n",
    "    <summary><font color='red'>解答はここをクリック</font></summary>\n",
    "    <code>x=st_scaler.fit_transform(X.reshape(-1, 1)).flatten()</code><br>\n",
    "    <code>x=mm_scaler.fit_transform(X.reshape(-1, 1)).flatten()</code><br>\n",
    "    <code>x=ro_scaler.fit_transform(X.reshape(-1, 1)).flatten()</code>\n",
    "</details>"
   ]
  },
  {
   "cell_type": "markdown",
   "id": "3c474df1",
   "metadata": {},
   "source": [
    "Exercise_8: ボストン住宅価格データセットをインポートし、feature_namesを使ってデータフレームを作成してください"
   ]
  },
  {
   "cell_type": "code",
   "execution_count": null,
   "id": "f0562792",
   "metadata": {
    "scrolled": false
   },
   "outputs": [],
   "source": [
    "# インポート\n"
   ]
  },
  {
   "cell_type": "markdown",
   "id": "e1073e79",
   "metadata": {},
   "source": [
    "<details>\n",
    "    <summary><font color='red'>解答はここをクリック</font></summary>\n",
    "    <code>from sklearn.datasets import load_boston</code>\n",
    "</details>"
   ]
  },
  {
   "cell_type": "code",
   "execution_count": null,
   "id": "43b05394",
   "metadata": {
    "scrolled": true
   },
   "outputs": [],
   "source": [
    "boston = \n",
    "df = "
   ]
  },
  {
   "cell_type": "markdown",
   "id": "d79d0958",
   "metadata": {},
   "source": [
    "<details>\n",
    "    <summary><font color='red'>解答はここをクリック</font></summary>\n",
    "    <code>boston = load_boston()</code><br>\n",
    "    <code>df = pd.DataFrame(boston['data'], columns=boston['feature_names'])</code>\n",
    "</details>"
   ]
  },
  {
   "cell_type": "code",
   "execution_count": null,
   "id": "fa18f6d3",
   "metadata": {},
   "outputs": [],
   "source": [
    "# 実行して表示\n",
    "df.head()"
   ]
  },
  {
   "cell_type": "markdown",
   "id": "8dbe6340",
   "metadata": {},
   "source": [
    "Exercise_9: ふたつのトランスフォーマーをインポートしてください"
   ]
  },
  {
   "cell_type": "code",
   "execution_count": null,
   "id": "3de163a1",
   "metadata": {},
   "outputs": [],
   "source": []
  },
  {
   "cell_type": "markdown",
   "id": "3c574aa5",
   "metadata": {},
   "source": [
    "<details>\n",
    "    <summary><font color='red'>解答はここをクリック</font></summary>\n",
    "    <code>from sklearn.preprocessing import QuantileTransformer</code><br>\n",
    "    <code>from sklearn.preprocessing import PowerTransformer</code>\n",
    "</details>"
   ]
  },
  {
   "cell_type": "markdown",
   "id": "94327d22",
   "metadata": {},
   "source": [
    "Exercise_10 : それぞれのインスタンスを作成して下さい。QuantileTransformerに関しては、'normal'と'uniform'のふたつを作成し、n_quantiles=506としてください。その他はデフォルトの設定でかまいません"
   ]
  },
  {
   "cell_type": "code",
   "execution_count": null,
   "id": "a710f493",
   "metadata": {},
   "outputs": [],
   "source": [
    "qut_n = \n",
    "qut_u = \n",
    "pot = "
   ]
  },
  {
   "cell_type": "markdown",
   "id": "00ea9e88",
   "metadata": {},
   "source": [
    "<details>\n",
    "    <summary><font color='red'>解答はここをクリック</font></summary>\n",
    "    <code>qut_n = QuantileTransformer(output_distribution='normal', n_quantiles=506)</code><br>\n",
    "    <code>qut_u = QuantileTransformer(output_distribution='uniform', n_quantiles=506)</code><br>\n",
    "    <code>pot = PowerTransformer()</code>\n",
    "</details>"
   ]
  },
  {
   "cell_type": "code",
   "execution_count": null,
   "id": "9b7293a6",
   "metadata": {},
   "outputs": [],
   "source": [
    "# 実行\n",
    "# 特徴量を3つに絞る\n",
    "df_t = df[['RM', 'AGE', 'LSTAT']]"
   ]
  },
  {
   "cell_type": "code",
   "execution_count": null,
   "id": "49325506",
   "metadata": {
    "scrolled": true
   },
   "outputs": [],
   "source": [
    "# 実行して表示\n",
    "fig, axes = plt.subplots(1, 3, figsize=(14, 4), tight_layout=True)\n",
    "sns.histplot(df['INDUS'], ax=axes[0])\n",
    "sns.histplot(df['AGE'], ax=axes[1])\n",
    "sns.histplot(df['LSTAT'], ax=axes[2])\n",
    "plt.show()"
   ]
  },
  {
   "cell_type": "markdown",
   "id": "9a5af0b4",
   "metadata": {},
   "source": [
    "Exercise_11 : 関数plotsを完成させ、df_tのそれぞれの特徴量の非線形変換の結果をヒストプロットで表示してください"
   ]
  },
  {
   "cell_type": "code",
   "execution_count": null,
   "id": "e042dba1",
   "metadata": {},
   "outputs": [],
   "source": [
    "def plots(features):\n",
    "    fig, axes = plt.subplots(1, 4, figsize=(14, 4), tight_layout=True)\n",
    "    sns.histplot(x=df[feature] , ax=axes[0])\n",
    "    sns.histplot(x= , ax=axes[1])   # x= 以降を埋める\n",
    "    axes[1].set_title('Quantile Uniform')\n",
    "    sns.histplot(x= , ax=axes[2])   # x= 以降を埋める\n",
    "    axes[2].set_title('Quantile Normal')\n",
    "    sns.histplot(x= ax=axes[3])   # x= 以降を埋める\n",
    "    axes[3].set_title('Power')\n",
    "    plt.show()"
   ]
  },
  {
   "cell_type": "markdown",
   "id": "1a96d5ff",
   "metadata": {},
   "source": [
    "<details>\n",
    "    <summary><font color='red'>解答はここをクリック</font></summary>\n",
    "    <code>x=qut_u.fit_transform(df[[feature]]).flatten()</code><br>\n",
    "    <code>x=qut_n.fit_transform(df[[feature]]).flatten()</code><br>\n",
    "    <code>x=pot.fit_transform(df[[feature]]).flatten()</code>\n",
    "</details>"
   ]
  },
  {
   "cell_type": "code",
   "execution_count": null,
   "id": "fd2a5b6c",
   "metadata": {},
   "outputs": [],
   "source": [
    "# 実行して表示\n",
    "for feature in df_t.columns:\n",
    "    plots(feature)"
   ]
  },
  {
   "cell_type": "markdown",
   "id": "3e77d3b1",
   "metadata": {
    "scrolled": true
   },
   "source": [
    "Exercise_12 : KBinsDiscretizerをインポートし、インスタンスを作成してください。その際にビンの数を3とし、'uniform'、'ordinal'を設定してください。"
   ]
  },
  {
   "cell_type": "code",
   "execution_count": 28,
   "id": "31a04cb7",
   "metadata": {},
   "outputs": [],
   "source": [
    "# インポート\n",
    "from sklearn.preprocessing import KBinsDiscretizer"
   ]
  },
  {
   "cell_type": "markdown",
   "id": "b67d342d",
   "metadata": {},
   "source": [
    "<details>\n",
    "    <summary><font color='red'>解答はここをクリック</font></summary>\n",
    "    <code>from sklearn.preprocessing import KBinsDiscretizer</code>\n",
    "</details>"
   ]
  },
  {
   "cell_type": "code",
   "execution_count": 29,
   "id": "06cc2179",
   "metadata": {},
   "outputs": [],
   "source": [
    "discretizer = KBinsDiscretizer()"
   ]
  },
  {
   "cell_type": "markdown",
   "id": "cec2c71f",
   "metadata": {},
   "source": [
    "<details>\n",
    "    <summary><font color='red'>解答はここをクリック</font></summary>\n",
    "    <code>discretizer = KBinsDiscretizer(strategy='uniform', encode='ordinal')</code>\n",
    "</details>"
   ]
  },
  {
   "cell_type": "code",
   "execution_count": null,
   "id": "207e46b5",
   "metadata": {},
   "outputs": [],
   "source": [
    "# 実行して表示\n",
    "y = boston['target'][:12].reshape(-1, 1)\n",
    "y[:5]"
   ]
  },
  {
   "cell_type": "markdown",
   "id": "bf221ee6",
   "metadata": {},
   "source": [
    "Exercise_13 : discretizerを用いて、yを離散化（ビニング）した結果を表示てください"
   ]
  },
  {
   "cell_type": "code",
   "execution_count": null,
   "id": "ee3f64ca",
   "metadata": {},
   "outputs": [],
   "source": []
  },
  {
   "cell_type": "markdown",
   "id": "486514c8",
   "metadata": {},
   "source": [
    "<details>\n",
    "    <summary><font color='red'>解答はここをクリック</font></summary>\n",
    "    <code>discretizer.fit_transform(y)</code>\n",
    "</details>"
   ]
  },
  {
   "cell_type": "markdown",
   "id": "a199d105",
   "metadata": {},
   "source": [
    "Exercise_14 : 上記のdiscretizerのstrategyを'quantile'に変更した新規インスタンス作成し、同様にyを離散化してください。  \n",
    "※　前回の結果との違いを確認してください"
   ]
  },
  {
   "cell_type": "code",
   "execution_count": null,
   "id": "bf34c179",
   "metadata": {},
   "outputs": [],
   "source": [
    "discretizer = "
   ]
  },
  {
   "cell_type": "code",
   "execution_count": null,
   "id": "c1046abe",
   "metadata": {},
   "outputs": [],
   "source": []
  },
  {
   "cell_type": "markdown",
   "id": "95ce8028",
   "metadata": {},
   "source": [
    "<details>\n",
    "    <summary><font color='red'>解答はここをクリック</font></summary>\n",
    "    <code>discretizer = KBinsDiscretizer(n_bins=3, strategy='quantile', encode='ordinal')</code><br>\n",
    "    <code>discretizer.fit_transform(y)</code>\n",
    "</details>"
   ]
  },
  {
   "cell_type": "markdown",
   "id": "8abf28a2",
   "metadata": {},
   "source": [
    "Exercise_15 :  Pandasのcutを用いて、yを数値の25以下のグループ('group_A')、25より大きいグループ('group_B')に分けたラベルのリストを表示して下さい"
   ]
  },
  {
   "cell_type": "code",
   "execution_count": null,
   "id": "8454c89d",
   "metadata": {},
   "outputs": [],
   "source": [
    "y.min(), y.max()"
   ]
  },
  {
   "cell_type": "code",
   "execution_count": null,
   "id": "08c9989f",
   "metadata": {},
   "outputs": [],
   "source": [
    "groups = "
   ]
  },
  {
   "cell_type": "markdown",
   "id": "d8fdbc00",
   "metadata": {},
   "source": [
    "<details>\n",
    "    <summary><font color='red'>解答はここをクリック</font></summary>\n",
    "    <code>groups = pd.cut(y.flatten(), bins=[14, 25, 36.2], labels=['group_A', 'group_B'])</code><br>\n",
    "    <code>※15より小さい値を設定すればよい</code>\n",
    "</details>"
   ]
  },
  {
   "cell_type": "code",
   "execution_count": null,
   "id": "f3ac5a13",
   "metadata": {},
   "outputs": [],
   "source": [
    "# 実行して表示\n",
    "groups"
   ]
  },
  {
   "cell_type": "markdown",
   "id": "d740947c",
   "metadata": {},
   "source": [
    "## 以上"
   ]
  }
 ],
 "metadata": {
  "kernelspec": {
   "display_name": "Python 3",
   "language": "python",
   "name": "python3"
  },
  "language_info": {
   "codemirror_mode": {
    "name": "ipython",
    "version": 3
   },
   "file_extension": ".py",
   "mimetype": "text/x-python",
   "name": "python",
   "nbconvert_exporter": "python",
   "pygments_lexer": "ipython3",
   "version": "3.10.11"
  }
 },
 "nbformat": 4,
 "nbformat_minor": 5
}
